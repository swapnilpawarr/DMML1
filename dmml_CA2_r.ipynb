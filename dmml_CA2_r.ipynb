{
 "cells": [
  {
   "cell_type": "code",
   "execution_count": 1,
   "id": "c3af28ef",
   "metadata": {},
   "outputs": [
    {
     "name": "stderr",
     "output_type": "stream",
     "text": [
      "\n",
      "Attaching package: 'dplyr'\n",
      "\n",
      "\n",
      "The following objects are masked from 'package:stats':\n",
      "\n",
      "    filter, lag\n",
      "\n",
      "\n",
      "The following objects are masked from 'package:base':\n",
      "\n",
      "    intersect, setdiff, setequal, union\n",
      "\n",
      "\n",
      "Warning message:\n",
      "\"package 'readr' was built under R version 4.3.3\"\n",
      "Warning message:\n",
      "\"package 'caret' was built under R version 4.3.3\"\n",
      "Loading required package: lattice\n",
      "\n",
      "Warning message:\n",
      "\"package 'glmnet' was built under R version 4.3.3\"\n",
      "Loading required package: Matrix\n",
      "\n",
      "Loaded glmnet 4.1-8\n",
      "\n"
     ]
    }
   ],
   "source": [
    "# Load necessary libraries\n",
    "library(dplyr)\n",
    "library(ggplot2)\n",
    "library(readr)\n",
    "library(class)\n",
    "library(caret)\n",
    "library(glmnet)"
   ]
  },
  {
   "cell_type": "code",
   "execution_count": 2,
   "id": "52792d75",
   "metadata": {},
   "outputs": [
    {
     "name": "stderr",
     "output_type": "stream",
     "text": [
      "\u001b[1m\u001b[22mNew names:\n",
      "\u001b[36m•\u001b[39m `` -> `...1`\n",
      "\u001b[1mRows: \u001b[22m\u001b[34m423325\u001b[39m \u001b[1mColumns: \u001b[22m\u001b[34m17\u001b[39m\n",
      "\u001b[36m──\u001b[39m \u001b[1mColumn specification\u001b[22m \u001b[36m────────────────────────────────────────────────────────\u001b[39m\n",
      "\u001b[1mDelimiter:\u001b[22m \",\"\n",
      "\u001b[31mchr\u001b[39m   (1): Type\n",
      "\u001b[32mdbl\u001b[39m  (14): ...1, Store, Dept, Weekly_Sales, Temperature, Fuel_Price, MarkDow...\n",
      "\u001b[33mlgl\u001b[39m   (1): IsHoliday\n",
      "\u001b[34mdate\u001b[39m  (1): Date\n",
      "\n",
      "\u001b[36mℹ\u001b[39m Use `spec()` to retrieve the full column specification for this data.\n",
      "\u001b[36mℹ\u001b[39m Specify the column types or set `show_col_types = FALSE` to quiet this message.\n"
     ]
    },
    {
     "name": "stdout",
     "output_type": "stream",
     "text": [
      "spc_tbl_ [423,325 × 17] (S3: spec_tbl_df/tbl_df/tbl/data.frame)\n",
      " $ ...1        : num [1:423325] 1 2 3 4 5 6 7 8 9 10 ...\n",
      " $ Store       : num [1:423325] 1 1 1 1 1 1 1 1 1 1 ...\n",
      " $ Date        : Date[1:423325], format: \"2010-02-05\" \"2010-02-05\" ...\n",
      " $ IsHoliday   : logi [1:423325] FALSE FALSE FALSE FALSE FALSE FALSE ...\n",
      " $ Dept        : num [1:423325] 1 26 17 45 28 79 55 5 58 7 ...\n",
      " $ Weekly_Sales: num [1:423325] 24924.5 11737.1 13223.8 37.4 1085.3 ...\n",
      " $ Temperature : num [1:423325] 42.3 42.3 42.3 42.3 42.3 ...\n",
      " $ Fuel_Price  : num [1:423325] 2.57 2.57 2.57 2.57 2.57 ...\n",
      " $ MarkDown1   : num [1:423325] NA NA NA NA NA NA NA NA NA NA ...\n",
      " $ MarkDown2   : num [1:423325] NA NA NA NA NA NA NA NA NA NA ...\n",
      " $ MarkDown3   : num [1:423325] NA NA NA NA NA NA NA NA NA NA ...\n",
      " $ MarkDown4   : num [1:423325] NA NA NA NA NA NA NA NA NA NA ...\n",
      " $ MarkDown5   : num [1:423325] NA NA NA NA NA NA NA NA NA NA ...\n",
      " $ CPI         : num [1:423325] 211 211 211 211 211 ...\n",
      " $ Unemployment: num [1:423325] 8.11 8.11 8.11 8.11 8.11 ...\n",
      " $ Type        : chr [1:423325] \"A\" \"A\" \"A\" \"A\" ...\n",
      " $ Size        : num [1:423325] 151315 151315 151315 151315 151315 ...\n",
      " - attr(*, \"spec\")=\n",
      "  .. cols(\n",
      "  ..   ...1 = \u001b[32mcol_double()\u001b[39m,\n",
      "  ..   Store = \u001b[32mcol_double()\u001b[39m,\n",
      "  ..   Date = \u001b[34mcol_date(format = \"\")\u001b[39m,\n",
      "  ..   IsHoliday = \u001b[33mcol_logical()\u001b[39m,\n",
      "  ..   Dept = \u001b[32mcol_double()\u001b[39m,\n",
      "  ..   Weekly_Sales = \u001b[32mcol_double()\u001b[39m,\n",
      "  ..   Temperature = \u001b[32mcol_double()\u001b[39m,\n",
      "  ..   Fuel_Price = \u001b[32mcol_double()\u001b[39m,\n",
      "  ..   MarkDown1 = \u001b[32mcol_double()\u001b[39m,\n",
      "  ..   MarkDown2 = \u001b[32mcol_double()\u001b[39m,\n",
      "  ..   MarkDown3 = \u001b[32mcol_double()\u001b[39m,\n",
      "  ..   MarkDown4 = \u001b[32mcol_double()\u001b[39m,\n",
      "  ..   MarkDown5 = \u001b[32mcol_double()\u001b[39m,\n",
      "  ..   CPI = \u001b[32mcol_double()\u001b[39m,\n",
      "  ..   Unemployment = \u001b[32mcol_double()\u001b[39m,\n",
      "  ..   Type = \u001b[31mcol_character()\u001b[39m,\n",
      "  ..   Size = \u001b[32mcol_double()\u001b[39m\n",
      "  .. )\n",
      " - attr(*, \"problems\")=<externalptr> \n"
     ]
    }
   ],
   "source": [
    "# Read the CSV file\n",
    "walmart_path <- read_csv(\"Desktop/dmml_Ca1/walmart.csv\")\n",
    "str(walmart_path)"
   ]
  },
  {
   "cell_type": "code",
   "execution_count": 3,
   "id": "011b1f06",
   "metadata": {},
   "outputs": [
    {
     "data": {
      "text/html": [
       "<table class=\"dataframe\">\n",
       "<caption>A tibble: 10 × 17</caption>\n",
       "<thead>\n",
       "\t<tr><th scope=col>...1</th><th scope=col>Store</th><th scope=col>Date</th><th scope=col>IsHoliday</th><th scope=col>Dept</th><th scope=col>Weekly_Sales</th><th scope=col>Temperature</th><th scope=col>Fuel_Price</th><th scope=col>MarkDown1</th><th scope=col>MarkDown2</th><th scope=col>MarkDown3</th><th scope=col>MarkDown4</th><th scope=col>MarkDown5</th><th scope=col>CPI</th><th scope=col>Unemployment</th><th scope=col>Type</th><th scope=col>Size</th></tr>\n",
       "\t<tr><th scope=col>&lt;dbl&gt;</th><th scope=col>&lt;dbl&gt;</th><th scope=col>&lt;date&gt;</th><th scope=col>&lt;lgl&gt;</th><th scope=col>&lt;dbl&gt;</th><th scope=col>&lt;dbl&gt;</th><th scope=col>&lt;dbl&gt;</th><th scope=col>&lt;dbl&gt;</th><th scope=col>&lt;dbl&gt;</th><th scope=col>&lt;dbl&gt;</th><th scope=col>&lt;dbl&gt;</th><th scope=col>&lt;dbl&gt;</th><th scope=col>&lt;dbl&gt;</th><th scope=col>&lt;dbl&gt;</th><th scope=col>&lt;dbl&gt;</th><th scope=col>&lt;chr&gt;</th><th scope=col>&lt;dbl&gt;</th></tr>\n",
       "</thead>\n",
       "<tbody>\n",
       "\t<tr><td> 1</td><td>1</td><td>2010-02-05</td><td>FALSE</td><td> 1</td><td>24924.50</td><td>42.31</td><td>2.572</td><td>NA</td><td>NA</td><td>NA</td><td>NA</td><td>NA</td><td>211.0964</td><td>8.106</td><td>A</td><td>151315</td></tr>\n",
       "\t<tr><td> 2</td><td>1</td><td>2010-02-05</td><td>FALSE</td><td>26</td><td>11737.12</td><td>42.31</td><td>2.572</td><td>NA</td><td>NA</td><td>NA</td><td>NA</td><td>NA</td><td>211.0964</td><td>8.106</td><td>A</td><td>151315</td></tr>\n",
       "\t<tr><td> 3</td><td>1</td><td>2010-02-05</td><td>FALSE</td><td>17</td><td>13223.76</td><td>42.31</td><td>2.572</td><td>NA</td><td>NA</td><td>NA</td><td>NA</td><td>NA</td><td>211.0964</td><td>8.106</td><td>A</td><td>151315</td></tr>\n",
       "\t<tr><td> 4</td><td>1</td><td>2010-02-05</td><td>FALSE</td><td>45</td><td>   37.44</td><td>42.31</td><td>2.572</td><td>NA</td><td>NA</td><td>NA</td><td>NA</td><td>NA</td><td>211.0964</td><td>8.106</td><td>A</td><td>151315</td></tr>\n",
       "\t<tr><td> 5</td><td>1</td><td>2010-02-05</td><td>FALSE</td><td>28</td><td> 1085.29</td><td>42.31</td><td>2.572</td><td>NA</td><td>NA</td><td>NA</td><td>NA</td><td>NA</td><td>211.0964</td><td>8.106</td><td>A</td><td>151315</td></tr>\n",
       "\t<tr><td> 6</td><td>1</td><td>2010-02-05</td><td>FALSE</td><td>79</td><td>46729.77</td><td>42.31</td><td>2.572</td><td>NA</td><td>NA</td><td>NA</td><td>NA</td><td>NA</td><td>211.0964</td><td>8.106</td><td>A</td><td>151315</td></tr>\n",
       "\t<tr><td> 7</td><td>1</td><td>2010-02-05</td><td>FALSE</td><td>55</td><td>21249.31</td><td>42.31</td><td>2.572</td><td>NA</td><td>NA</td><td>NA</td><td>NA</td><td>NA</td><td>211.0964</td><td>8.106</td><td>A</td><td>151315</td></tr>\n",
       "\t<tr><td> 8</td><td>1</td><td>2010-02-05</td><td>FALSE</td><td> 5</td><td>32229.38</td><td>42.31</td><td>2.572</td><td>NA</td><td>NA</td><td>NA</td><td>NA</td><td>NA</td><td>211.0964</td><td>8.106</td><td>A</td><td>151315</td></tr>\n",
       "\t<tr><td> 9</td><td>1</td><td>2010-02-05</td><td>FALSE</td><td>58</td><td> 7659.97</td><td>42.31</td><td>2.572</td><td>NA</td><td>NA</td><td>NA</td><td>NA</td><td>NA</td><td>211.0964</td><td>8.106</td><td>A</td><td>151315</td></tr>\n",
       "\t<tr><td>10</td><td>1</td><td>2010-02-05</td><td>FALSE</td><td> 7</td><td>21084.08</td><td>42.31</td><td>2.572</td><td>NA</td><td>NA</td><td>NA</td><td>NA</td><td>NA</td><td>211.0964</td><td>8.106</td><td>A</td><td>151315</td></tr>\n",
       "</tbody>\n",
       "</table>\n"
      ],
      "text/latex": [
       "A tibble: 10 × 17\n",
       "\\begin{tabular}{lllllllllllllllll}\n",
       " ...1 & Store & Date & IsHoliday & Dept & Weekly\\_Sales & Temperature & Fuel\\_Price & MarkDown1 & MarkDown2 & MarkDown3 & MarkDown4 & MarkDown5 & CPI & Unemployment & Type & Size\\\\\n",
       " <dbl> & <dbl> & <date> & <lgl> & <dbl> & <dbl> & <dbl> & <dbl> & <dbl> & <dbl> & <dbl> & <dbl> & <dbl> & <dbl> & <dbl> & <chr> & <dbl>\\\\\n",
       "\\hline\n",
       "\t  1 & 1 & 2010-02-05 & FALSE &  1 & 24924.50 & 42.31 & 2.572 & NA & NA & NA & NA & NA & 211.0964 & 8.106 & A & 151315\\\\\n",
       "\t  2 & 1 & 2010-02-05 & FALSE & 26 & 11737.12 & 42.31 & 2.572 & NA & NA & NA & NA & NA & 211.0964 & 8.106 & A & 151315\\\\\n",
       "\t  3 & 1 & 2010-02-05 & FALSE & 17 & 13223.76 & 42.31 & 2.572 & NA & NA & NA & NA & NA & 211.0964 & 8.106 & A & 151315\\\\\n",
       "\t  4 & 1 & 2010-02-05 & FALSE & 45 &    37.44 & 42.31 & 2.572 & NA & NA & NA & NA & NA & 211.0964 & 8.106 & A & 151315\\\\\n",
       "\t  5 & 1 & 2010-02-05 & FALSE & 28 &  1085.29 & 42.31 & 2.572 & NA & NA & NA & NA & NA & 211.0964 & 8.106 & A & 151315\\\\\n",
       "\t  6 & 1 & 2010-02-05 & FALSE & 79 & 46729.77 & 42.31 & 2.572 & NA & NA & NA & NA & NA & 211.0964 & 8.106 & A & 151315\\\\\n",
       "\t  7 & 1 & 2010-02-05 & FALSE & 55 & 21249.31 & 42.31 & 2.572 & NA & NA & NA & NA & NA & 211.0964 & 8.106 & A & 151315\\\\\n",
       "\t  8 & 1 & 2010-02-05 & FALSE &  5 & 32229.38 & 42.31 & 2.572 & NA & NA & NA & NA & NA & 211.0964 & 8.106 & A & 151315\\\\\n",
       "\t  9 & 1 & 2010-02-05 & FALSE & 58 &  7659.97 & 42.31 & 2.572 & NA & NA & NA & NA & NA & 211.0964 & 8.106 & A & 151315\\\\\n",
       "\t 10 & 1 & 2010-02-05 & FALSE &  7 & 21084.08 & 42.31 & 2.572 & NA & NA & NA & NA & NA & 211.0964 & 8.106 & A & 151315\\\\\n",
       "\\end{tabular}\n"
      ],
      "text/markdown": [
       "\n",
       "A tibble: 10 × 17\n",
       "\n",
       "| ...1 &lt;dbl&gt; | Store &lt;dbl&gt; | Date &lt;date&gt; | IsHoliday &lt;lgl&gt; | Dept &lt;dbl&gt; | Weekly_Sales &lt;dbl&gt; | Temperature &lt;dbl&gt; | Fuel_Price &lt;dbl&gt; | MarkDown1 &lt;dbl&gt; | MarkDown2 &lt;dbl&gt; | MarkDown3 &lt;dbl&gt; | MarkDown4 &lt;dbl&gt; | MarkDown5 &lt;dbl&gt; | CPI &lt;dbl&gt; | Unemployment &lt;dbl&gt; | Type &lt;chr&gt; | Size &lt;dbl&gt; |\n",
       "|---|---|---|---|---|---|---|---|---|---|---|---|---|---|---|---|---|\n",
       "|  1 | 1 | 2010-02-05 | FALSE |  1 | 24924.50 | 42.31 | 2.572 | NA | NA | NA | NA | NA | 211.0964 | 8.106 | A | 151315 |\n",
       "|  2 | 1 | 2010-02-05 | FALSE | 26 | 11737.12 | 42.31 | 2.572 | NA | NA | NA | NA | NA | 211.0964 | 8.106 | A | 151315 |\n",
       "|  3 | 1 | 2010-02-05 | FALSE | 17 | 13223.76 | 42.31 | 2.572 | NA | NA | NA | NA | NA | 211.0964 | 8.106 | A | 151315 |\n",
       "|  4 | 1 | 2010-02-05 | FALSE | 45 |    37.44 | 42.31 | 2.572 | NA | NA | NA | NA | NA | 211.0964 | 8.106 | A | 151315 |\n",
       "|  5 | 1 | 2010-02-05 | FALSE | 28 |  1085.29 | 42.31 | 2.572 | NA | NA | NA | NA | NA | 211.0964 | 8.106 | A | 151315 |\n",
       "|  6 | 1 | 2010-02-05 | FALSE | 79 | 46729.77 | 42.31 | 2.572 | NA | NA | NA | NA | NA | 211.0964 | 8.106 | A | 151315 |\n",
       "|  7 | 1 | 2010-02-05 | FALSE | 55 | 21249.31 | 42.31 | 2.572 | NA | NA | NA | NA | NA | 211.0964 | 8.106 | A | 151315 |\n",
       "|  8 | 1 | 2010-02-05 | FALSE |  5 | 32229.38 | 42.31 | 2.572 | NA | NA | NA | NA | NA | 211.0964 | 8.106 | A | 151315 |\n",
       "|  9 | 1 | 2010-02-05 | FALSE | 58 |  7659.97 | 42.31 | 2.572 | NA | NA | NA | NA | NA | 211.0964 | 8.106 | A | 151315 |\n",
       "| 10 | 1 | 2010-02-05 | FALSE |  7 | 21084.08 | 42.31 | 2.572 | NA | NA | NA | NA | NA | 211.0964 | 8.106 | A | 151315 |\n",
       "\n"
      ],
      "text/plain": [
       "   ...1 Store Date       IsHoliday Dept Weekly_Sales Temperature Fuel_Price\n",
       "1   1   1     2010-02-05 FALSE      1   24924.50     42.31       2.572     \n",
       "2   2   1     2010-02-05 FALSE     26   11737.12     42.31       2.572     \n",
       "3   3   1     2010-02-05 FALSE     17   13223.76     42.31       2.572     \n",
       "4   4   1     2010-02-05 FALSE     45      37.44     42.31       2.572     \n",
       "5   5   1     2010-02-05 FALSE     28    1085.29     42.31       2.572     \n",
       "6   6   1     2010-02-05 FALSE     79   46729.77     42.31       2.572     \n",
       "7   7   1     2010-02-05 FALSE     55   21249.31     42.31       2.572     \n",
       "8   8   1     2010-02-05 FALSE      5   32229.38     42.31       2.572     \n",
       "9   9   1     2010-02-05 FALSE     58    7659.97     42.31       2.572     \n",
       "10 10   1     2010-02-05 FALSE      7   21084.08     42.31       2.572     \n",
       "   MarkDown1 MarkDown2 MarkDown3 MarkDown4 MarkDown5 CPI      Unemployment Type\n",
       "1  NA        NA        NA        NA        NA        211.0964 8.106        A   \n",
       "2  NA        NA        NA        NA        NA        211.0964 8.106        A   \n",
       "3  NA        NA        NA        NA        NA        211.0964 8.106        A   \n",
       "4  NA        NA        NA        NA        NA        211.0964 8.106        A   \n",
       "5  NA        NA        NA        NA        NA        211.0964 8.106        A   \n",
       "6  NA        NA        NA        NA        NA        211.0964 8.106        A   \n",
       "7  NA        NA        NA        NA        NA        211.0964 8.106        A   \n",
       "8  NA        NA        NA        NA        NA        211.0964 8.106        A   \n",
       "9  NA        NA        NA        NA        NA        211.0964 8.106        A   \n",
       "10 NA        NA        NA        NA        NA        211.0964 8.106        A   \n",
       "   Size  \n",
       "1  151315\n",
       "2  151315\n",
       "3  151315\n",
       "4  151315\n",
       "5  151315\n",
       "6  151315\n",
       "7  151315\n",
       "8  151315\n",
       "9  151315\n",
       "10 151315"
      ]
     },
     "metadata": {},
     "output_type": "display_data"
    }
   ],
   "source": [
    "# Display the top 10 rows of the dataset\n",
    "head(walmart_path, 10)"
   ]
  },
  {
   "cell_type": "code",
   "execution_count": 4,
   "id": "fad52fab",
   "metadata": {},
   "outputs": [
    {
     "data": {
      "text/html": [
       "126000"
      ],
      "text/latex": [
       "126000"
      ],
      "text/markdown": [
       "126000"
      ],
      "text/plain": [
       "[1] 126000"
      ]
     },
     "metadata": {},
     "output_type": "display_data"
    }
   ],
   "source": [
    "# Determine the number of 10000-row chunks in the data frame\n",
    "num_chunks <- nrow(walmart_path) %/% 10000\n",
    "\n",
    "# Initialize an empty data frame to store cleaned data\n",
    "walmart_trimmed <- data.frame()\n",
    "\n",
    "# Loop through each chunk of 10000 rows\n",
    "for (i in 0:(num_chunks - 1)) {\n",
    "  # Select the current chunk\n",
    "  chunk <- walmart_path[(i * 10000 + 1):((i + 1) * 10000), ]\n",
    "  \n",
    "  # Remove 7000 rows from the current chunk\n",
    "  cleaned_chunk <- chunk[7001:10000, ]\n",
    "  \n",
    "  # Append the cleaned chunk to the cleaned data frame\n",
    "  walmart_trimmed <- rbind(walmart_trimmed, cleaned_chunk)\n",
    "}\n",
    "\n",
    "# Print the number of rows in the resulting data frame\n",
    "nrow(walmart_trimmed)\n"
   ]
  },
  {
   "cell_type": "code",
   "execution_count": 5,
   "id": "ef1debec",
   "metadata": {},
   "outputs": [
    {
     "data": {
      "text/html": [
       "<style>\n",
       ".dl-inline {width: auto; margin:0; padding: 0}\n",
       ".dl-inline>dt, .dl-inline>dd {float: none; width: auto; display: inline-block}\n",
       ".dl-inline>dt::after {content: \":\\0020\"; padding-right: .5ex}\n",
       ".dl-inline>dt:not(:first-of-type) {padding-left: .5ex}\n",
       "</style><dl class=dl-inline><dt>...1</dt><dd>0</dd><dt>Store</dt><dd>0</dd><dt>Date</dt><dd>0</dd><dt>IsHoliday</dt><dd>0</dd><dt>Dept</dt><dd>1131</dd><dt>Weekly_Sales</dt><dd>1131</dd><dt>Temperature</dt><dd>0</dd><dt>Fuel_Price</dt><dd>0</dd><dt>MarkDown1</dt><dd>72552</dd><dt>MarkDown2</dt><dd>87227</dd><dt>MarkDown3</dt><dd>76645</dd><dt>MarkDown4</dt><dd>76374</dd><dt>MarkDown5</dt><dd>72395</dd><dt>CPI</dt><dd>377</dd><dt>Unemployment</dt><dd>377</dd><dt>Type</dt><dd>0</dd><dt>Size</dt><dd>0</dd></dl>\n"
      ],
      "text/latex": [
       "\\begin{description*}\n",
       "\\item[...1] 0\n",
       "\\item[Store] 0\n",
       "\\item[Date] 0\n",
       "\\item[IsHoliday] 0\n",
       "\\item[Dept] 1131\n",
       "\\item[Weekly\\textbackslash{}\\_Sales] 1131\n",
       "\\item[Temperature] 0\n",
       "\\item[Fuel\\textbackslash{}\\_Price] 0\n",
       "\\item[MarkDown1] 72552\n",
       "\\item[MarkDown2] 87227\n",
       "\\item[MarkDown3] 76645\n",
       "\\item[MarkDown4] 76374\n",
       "\\item[MarkDown5] 72395\n",
       "\\item[CPI] 377\n",
       "\\item[Unemployment] 377\n",
       "\\item[Type] 0\n",
       "\\item[Size] 0\n",
       "\\end{description*}\n"
      ],
      "text/markdown": [
       "...1\n",
       ":   0Store\n",
       ":   0Date\n",
       ":   0IsHoliday\n",
       ":   0Dept\n",
       ":   1131Weekly_Sales\n",
       ":   1131Temperature\n",
       ":   0Fuel_Price\n",
       ":   0MarkDown1\n",
       ":   72552MarkDown2\n",
       ":   87227MarkDown3\n",
       ":   76645MarkDown4\n",
       ":   76374MarkDown5\n",
       ":   72395CPI\n",
       ":   377Unemployment\n",
       ":   377Type\n",
       ":   0Size\n",
       ":   0\n",
       "\n"
      ],
      "text/plain": [
       "        ...1        Store         Date    IsHoliday         Dept Weekly_Sales \n",
       "           0            0            0            0         1131         1131 \n",
       " Temperature   Fuel_Price    MarkDown1    MarkDown2    MarkDown3    MarkDown4 \n",
       "           0            0        72552        87227        76645        76374 \n",
       "   MarkDown5          CPI Unemployment         Type         Size \n",
       "       72395          377          377            0            0 "
      ]
     },
     "metadata": {},
     "output_type": "display_data"
    }
   ],
   "source": [
    "colSums(is.na(walmart_trimmed))"
   ]
  },
  {
   "cell_type": "code",
   "execution_count": null,
   "id": "75850e18",
   "metadata": {},
   "outputs": [],
   "source": []
  },
  {
   "cell_type": "code",
   "execution_count": 6,
   "id": "34d83432",
   "metadata": {},
   "outputs": [
    {
     "name": "stderr",
     "output_type": "stream",
     "text": [
      "Warning message:\n",
      "\"Unknown columns: `Unnamed: 0`\"\n"
     ]
    },
    {
     "name": "stdout",
     "output_type": "stream",
     "text": [
      "[1] \"Store\"        \"Weekly_Sales\" \"Temperature\"  \"Fuel_Price\"   \"MarkDown1\"   \n",
      "[6] \"CPI\"          \"Unemployment\"\n"
     ]
    }
   ],
   "source": [
    "# Load necessary library\n",
    "library(dplyr)\n",
    "\n",
    "# Columns to remove\n",
    "columns_to_remove <- c('Dept','Size','Date','IsHoliday', 'Type', 'MarkDown2', 'MarkDown3', 'MarkDown4', 'MarkDown5', 'Unnamed: 0', '...1' )\n",
    "\n",
    "# Remove the specified columns\n",
    "walmart_trimmed <- walmart_trimmed %>%\n",
    "  select(-one_of(columns_to_remove))\n",
    "\n",
    "# Print the column names\n",
    "print(colnames(walmart_trimmed))"
   ]
  },
  {
   "cell_type": "code",
   "execution_count": 7,
   "id": "86a7f754",
   "metadata": {},
   "outputs": [
    {
     "data": {
      "text/html": [
       "52319"
      ],
      "text/latex": [
       "52319"
      ],
      "text/markdown": [
       "52319"
      ],
      "text/plain": [
       "[1] 52319"
      ]
     },
     "metadata": {},
     "output_type": "display_data"
    }
   ],
   "source": [
    "\n",
    "# Remove rows with null values\n",
    "walmart_trimmed <- na.omit(walmart_trimmed)\n",
    "nrow(walmart_trimmed)"
   ]
  },
  {
   "cell_type": "code",
   "execution_count": 8,
   "id": "8ebb1747",
   "metadata": {},
   "outputs": [],
   "source": [
    "# # Convert the date column to datetime format\n",
    "# walmart_trimmed$Date <- as.Date(walmart_trimmed$Date)\n",
    "\n",
    "# # Print the Date column\n",
    "# head(walmart_trimmed$Date, 10)"
   ]
  },
  {
   "cell_type": "code",
   "execution_count": 9,
   "id": "00503e3b",
   "metadata": {},
   "outputs": [
    {
     "data": {
      "text/html": [
       "52319"
      ],
      "text/latex": [
       "52319"
      ],
      "text/markdown": [
       "52319"
      ],
      "text/plain": [
       "[1] 52319"
      ]
     },
     "metadata": {},
     "output_type": "display_data"
    },
    {
     "data": {
      "text/html": [
       "7"
      ],
      "text/latex": [
       "7"
      ],
      "text/markdown": [
       "7"
      ],
      "text/plain": [
       "[1] 7"
      ]
     },
     "metadata": {},
     "output_type": "display_data"
    }
   ],
   "source": [
    "# Remove rows with missing values\n",
    "Walmart_cleaned <- na.omit(walmart_trimmed)\n",
    "nrow(Walmart_cleaned)\n",
    "ncol(Walmart_cleaned)"
   ]
  },
  {
   "cell_type": "code",
   "execution_count": 10,
   "id": "3b85c45d",
   "metadata": {},
   "outputs": [],
   "source": [
    "# # Load necessary libraries\n",
    "# library(ggplot2)\n",
    "\n",
    "# # Define columns to plot\n",
    "# columns_to_plot <- c('Weekly_Sales', 'Dept', 'Temperature', 'MarkDown1', \n",
    "#                      'Fuel_Price', 'CPI', 'Unemployment', 'Size')\n",
    "\n",
    "# # Determine the number of rows and columns for subplots\n",
    "# num_plots <- length(columns_to_plot)\n",
    "# num_rows <- (num_plots %/% 3) + (num_plots %% 3 > 0)\n",
    "# num_cols <- min(num_plots, 3)\n",
    "\n",
    "# # Create a new plot\n",
    "# plot_list <- list()\n",
    "\n",
    "# # Loop through each column and create scatter plots\n",
    "# for (i in 1:num_plots) {\n",
    "#   plot_list[[i]] <- ggplot(Walmart_cleaned, aes_string(x = columns_to_plot[i], y = 'Store')) +\n",
    "#     geom_point() +\n",
    "#     labs(title = paste(\"Scatter plot of\", columns_to_plot[i], \"against different stores\"),\n",
    "#          x = columns_to_plot[i],\n",
    "#          y = 'Store') +\n",
    "#     theme_minimal()\n",
    "# }\n",
    "\n",
    "# # Plot the scatter plots with 3 plots in a row\n",
    "# multiplot <- do.call(gridExtra::grid.arrange, c(plot_list, ncol = num_cols))\n",
    "\n",
    "# # Set the plot size\n",
    "# ggsave(\"scatter_plots.png\", multiplot, width = 18, height = num_rows * 6, units = \"in\", dpi = 300)\n",
    "\n",
    "# # Print the scatter plots\n",
    "# multiplot\n"
   ]
  },
  {
   "cell_type": "code",
   "execution_count": 11,
   "id": "b6cf3a7f",
   "metadata": {},
   "outputs": [
    {
     "data": {
      "text/plain": [
       "\n",
       "Call:\n",
       "glm(formula = Weekly_Sales ~ Store, family = gaussian, data = Walmart_cleaned)\n",
       "\n",
       "Coefficients:\n",
       "             Estimate Std. Error t value Pr(>|t|)    \n",
       "(Intercept) 19383.173    172.097  112.63   <2e-16 ***\n",
       "Store        -141.520      7.987  -17.72   <2e-16 ***\n",
       "---\n",
       "Signif. codes:  0 '***' 0.001 '**' 0.01 '*' 0.05 '.' 0.1 ' ' 1\n",
       "\n",
       "(Dispersion parameter for gaussian family taken to be 579943614)\n",
       "\n",
       "    Null deviance: 3.0523e+13  on 52318  degrees of freedom\n",
       "Residual deviance: 3.0341e+13  on 52317  degrees of freedom\n",
       "AIC: 1204195\n",
       "\n",
       "Number of Fisher Scoring iterations: 2\n"
      ]
     },
     "metadata": {},
     "output_type": "display_data"
    }
   ],
   "source": [
    "# Build a GLM model\n",
    "glm_model <- glm(Weekly_Sales ~ Store, data = Walmart_cleaned, family = gaussian)\n",
    "\n",
    "# Print the summary of the model\n",
    "summary(glm_model)"
   ]
  },
  {
   "cell_type": "code",
   "execution_count": 12,
   "id": "f1deda6b",
   "metadata": {},
   "outputs": [
    {
     "data": {
      "text/html": [
       "<table class=\"dataframe\">\n",
       "<caption>A matrix: 1 × 1 of type dbl</caption>\n",
       "<thead>\n",
       "\t<tr><th scope=col>Store</th></tr>\n",
       "</thead>\n",
       "<tbody>\n",
       "\t<tr><td>0.38285</td></tr>\n",
       "</tbody>\n",
       "</table>\n"
      ],
      "text/latex": [
       "A matrix: 1 × 1 of type dbl\n",
       "\\begin{tabular}{l}\n",
       " Store\\\\\n",
       "\\hline\n",
       "\t 0.38285\\\\\n",
       "\\end{tabular}\n"
      ],
      "text/markdown": [
       "\n",
       "A matrix: 1 × 1 of type dbl\n",
       "\n",
       "| Store |\n",
       "|---|\n",
       "| 0.38285 |\n",
       "\n"
      ],
      "text/plain": [
       "     Store  \n",
       "[1,] 0.38285"
      ]
     },
     "metadata": {},
     "output_type": "display_data"
    },
    {
     "name": "stdout",
     "output_type": "stream",
     "text": [
      "Accuracy: 0.3828 \n"
     ]
    }
   ],
   "source": [
    "# Set seed for reproducibility\n",
    "set.seed(42)\n",
    "\n",
    "# Randomly sample row indices for the training set\n",
    "train_indices <- sample(nrow(Walmart_cleaned), 0.7 * nrow(Walmart_cleaned))\n",
    "\n",
    "# Create training and testing sets\n",
    "train_data <- Walmart_cleaned[train_indices, ]\n",
    "test_data <- Walmart_cleaned[-train_indices, ]\n",
    "\n",
    "# Define predictors and response variable\n",
    "predictors <- c('Weekly_Sales', 'Temperature', 'MarkDown1', 'Fuel_Price', 'CPI', 'Unemployment')\n",
    "response <- 'Store'\n",
    "\n",
    "# Select predictors and response variable for training and testing\n",
    "X_train <- train_data[, predictors]\n",
    "y_train <- train_data[, response]\n",
    "X_test <- test_data[, predictors]\n",
    "y_test <- test_data[, response]\n",
    "\n",
    "# Fit the model (e.g., GLM)\n",
    "glm_model <- glm(as.formula(paste(response, \"~ .\")), data = train_data, family = gaussian)\n",
    "\n",
    "# Predict on the test set\n",
    "y_pred <- predict(glm_model, newdata = X_test)\n",
    "\n",
    "# Calculate accuracy (you may want to use other metrics for regression)\n",
    "accuracy <- cor(y_pred, y_test)^2  # R-squared\n",
    "accuracy\n",
    "# Print the accuracy value\n",
    "cat(\"Accuracy:\", round(accuracy, digits = 4), \"\\n\")\n"
   ]
  },
  {
   "cell_type": "code",
   "execution_count": 13,
   "id": "4f5b44b1",
   "metadata": {},
   "outputs": [
    {
     "name": "stderr",
     "output_type": "stream",
     "text": [
      "ERROR while rich displaying an object: \u001b[1m\u001b[33mError\u001b[39m in `geom_point()`:\u001b[22m\n",
      "\u001b[1m\u001b[22m\u001b[33m!\u001b[39m Problem while computing aesthetics.\n",
      "\u001b[36mℹ\u001b[39m Error occurred in the 1st layer.\n",
      "\u001b[1mCaused by error:\u001b[22m\n",
      "\u001b[33m!\u001b[39m object 'Actual' not found\n",
      "\n",
      "Traceback:\n",
      "1. tryCatch(withCallingHandlers({\n",
      " .     if (!mime %in% names(repr::mime2repr)) \n",
      " .         stop(\"No repr_* for mimetype \", mime, \" in repr::mime2repr\")\n",
      " .     rpr <- repr::mime2repr[[mime]](obj)\n",
      " .     if (is.null(rpr)) \n",
      " .         return(NULL)\n",
      " .     prepare_content(is.raw(rpr), rpr)\n",
      " . }, error = error_handler), error = outer_handler)\n",
      "2. tryCatchList(expr, classes, parentenv, handlers)\n",
      "3. tryCatchOne(expr, names, parentenv, handlers[[1L]])\n",
      "4. doTryCatch(return(expr), name, parentenv, handler)\n",
      "5. withCallingHandlers({\n",
      " .     if (!mime %in% names(repr::mime2repr)) \n",
      " .         stop(\"No repr_* for mimetype \", mime, \" in repr::mime2repr\")\n",
      " .     rpr <- repr::mime2repr[[mime]](obj)\n",
      " .     if (is.null(rpr)) \n",
      " .         return(NULL)\n",
      " .     prepare_content(is.raw(rpr), rpr)\n",
      " . }, error = error_handler)\n",
      "6. repr::mime2repr[[mime]](obj)\n",
      "7. repr_text.default(obj)\n",
      "8. paste(capture.output(print(obj)), collapse = \"\\n\")\n",
      "9. capture.output(print(obj))\n",
      "10. withVisible(...elt(i))\n",
      "11. print(obj)\n",
      "12. print.ggplot(obj)\n",
      "13. ggplot_build(x)\n",
      "14. ggplot_build.ggplot(x)\n",
      "15. by_layer(function(l, d) l$compute_aesthetics(d, plot), layers, \n",
      "  .     data, \"computing aesthetics\")\n",
      "16. try_fetch(for (i in seq_along(data)) {\n",
      "  .     out[[i]] <- f(l = layers[[i]], d = data[[i]])\n",
      "  . }, error = function(cnd) {\n",
      "  .     cli::cli_abort(c(\"Problem while {step}.\", i = \"Error occurred in the {ordinal(i)} layer.\"), \n",
      "  .         call = layers[[i]]$constructor, parent = cnd)\n",
      "  . })\n",
      "17. tryCatch(withCallingHandlers(expr, condition = function(cnd) {\n",
      "  .     {\n",
      "  .         .__handler_frame__. <- TRUE\n",
      "  .         .__setup_frame__. <- frame\n",
      "  .         if (inherits(cnd, \"message\")) {\n",
      "  .             except <- c(\"warning\", \"error\")\n",
      "  .         }\n",
      "  .         else if (inherits(cnd, \"warning\")) {\n",
      "  .             except <- \"error\"\n",
      "  .         }\n",
      "  .         else {\n",
      "  .             except <- \"\"\n",
      "  .         }\n",
      "  .     }\n",
      "  .     while (!is_null(cnd)) {\n",
      "  .         if (inherits(cnd, \"error\")) {\n",
      "  .             out <- handlers[[1L]](cnd)\n",
      "  .             if (!inherits(out, \"rlang_zap\")) \n",
      "  .                 throw(out)\n",
      "  .         }\n",
      "  .         inherit <- .subset2(.subset2(cnd, \"rlang\"), \"inherit\")\n",
      "  .         if (is_false(inherit)) {\n",
      "  .             return()\n",
      "  .         }\n",
      "  .         cnd <- .subset2(cnd, \"parent\")\n",
      "  .     }\n",
      "  . }), stackOverflowError = handlers[[1L]])\n",
      "18. tryCatchList(expr, classes, parentenv, handlers)\n",
      "19. tryCatchOne(expr, names, parentenv, handlers[[1L]])\n",
      "20. doTryCatch(return(expr), name, parentenv, handler)\n",
      "21. withCallingHandlers(expr, condition = function(cnd) {\n",
      "  .     {\n",
      "  .         .__handler_frame__. <- TRUE\n",
      "  .         .__setup_frame__. <- frame\n",
      "  .         if (inherits(cnd, \"message\")) {\n",
      "  .             except <- c(\"warning\", \"error\")\n",
      "  .         }\n",
      "  .         else if (inherits(cnd, \"warning\")) {\n",
      "  .             except <- \"error\"\n",
      "  .         }\n",
      "  .         else {\n",
      "  .             except <- \"\"\n",
      "  .         }\n",
      "  .     }\n",
      "  .     while (!is_null(cnd)) {\n",
      "  .         if (inherits(cnd, \"error\")) {\n",
      "  .             out <- handlers[[1L]](cnd)\n",
      "  .             if (!inherits(out, \"rlang_zap\")) \n",
      "  .                 throw(out)\n",
      "  .         }\n",
      "  .         inherit <- .subset2(.subset2(cnd, \"rlang\"), \"inherit\")\n",
      "  .         if (is_false(inherit)) {\n",
      "  .             return()\n",
      "  .         }\n",
      "  .         cnd <- .subset2(cnd, \"parent\")\n",
      "  .     }\n",
      "  . })\n",
      "22. f(l = layers[[i]], d = data[[i]])\n",
      "23. l$compute_aesthetics(d, plot)\n",
      "24. compute_aesthetics(..., self = self)\n",
      "25. lapply(aesthetics, eval_tidy, data = data, env = env)\n",
      "26. FUN(X[[i]], ...)\n",
      "27. .handleSimpleError(function (cnd) \n",
      "  . {\n",
      "  .     {\n",
      "  .         .__handler_frame__. <- TRUE\n",
      "  .         .__setup_frame__. <- frame\n",
      "  .         if (inherits(cnd, \"message\")) {\n",
      "  .             except <- c(\"warning\", \"error\")\n",
      "  .         }\n",
      "  .         else if (inherits(cnd, \"warning\")) {\n",
      "  .             except <- \"error\"\n",
      "  .         }\n",
      "  .         else {\n",
      "  .             except <- \"\"\n",
      "  .         }\n",
      "  .     }\n",
      "  .     while (!is_null(cnd)) {\n",
      "  .         if (inherits(cnd, \"error\")) {\n",
      "  .             out <- handlers[[1L]](cnd)\n",
      "  .             if (!inherits(out, \"rlang_zap\")) \n",
      "  .                 throw(out)\n",
      "  .         }\n",
      "  .         inherit <- .subset2(.subset2(cnd, \"rlang\"), \"inherit\")\n",
      "  .         if (is_false(inherit)) {\n",
      "  .             return()\n",
      "  .         }\n",
      "  .         cnd <- .subset2(cnd, \"parent\")\n",
      "  .     }\n",
      "  . }, \"object 'Actual' not found\", base::quote(NULL))\n",
      "28. h(simpleError(msg, call))\n",
      "29. handlers[[1L]](cnd)\n",
      "30. cli::cli_abort(c(\"Problem while {step}.\", i = \"Error occurred in the {ordinal(i)} layer.\"), \n",
      "  .     call = layers[[i]]$constructor, parent = cnd)\n",
      "31. rlang::abort(message, ..., call = call, use_cli_format = TRUE, \n",
      "  .     .frame = .frame)\n",
      "32. signal_abort(cnd, .file)\n"
     ]
    }
   ],
   "source": [
    "# Create a data frame with actual and predicted values\n",
    "plot_data <- data.frame(Actual = y_test, Predicted = y_pred)\n",
    "\n",
    "# Plot the actual vs predicted graph\n",
    "ggplot(plot_data, aes(x = Actual, y = Predicted)) +\n",
    "  geom_point(color = \"blue\") +\n",
    "  geom_abline(intercept = 0, slope = 1, color = \"red\", linetype = \"dashed\") +\n",
    "  labs(x = \"Actual\", y = \"Predicted\", title = \"Actual vs Predicted\") +\n",
    "  theme_minimal()"
   ]
  },
  {
   "cell_type": "code",
   "execution_count": null,
   "id": "5731541e",
   "metadata": {},
   "outputs": [],
   "source": []
  },
  {
   "cell_type": "code",
   "execution_count": 14,
   "id": "fac36a38",
   "metadata": {},
   "outputs": [
    {
     "name": "stdout",
     "output_type": "stream",
     "text": [
      "Accuracy: 0.2477 \n"
     ]
    }
   ],
   "source": [
    "# Load the required library\n",
    "library(class)\n",
    "\n",
    "# Convert y_train to a numeric vector\n",
    "y_train <- as.numeric(y_train$Store)\n",
    "y_test  <- as.numeric(y_test$Store)\n",
    "\n",
    "# Initialize and train the K Nearest Neighbors classifier\n",
    "knn_model <- knn(train = X_train, test = X_test, cl = y_train, k = 5)\n",
    "\n",
    "# Calculate accuracy\n",
    "accuracy <- sum(knn_model == y_test) / length(y_test)\n",
    "# Print the accuracy value\n",
    "cat(\"Accuracy:\", round(accuracy, digits = 4), \"\\n\")"
   ]
  },
  {
   "cell_type": "code",
   "execution_count": 15,
   "id": "1ffa376d",
   "metadata": {},
   "outputs": [
    {
     "data": {
      "image/png": "[encoded data removed]",
      "text/plain": [
       "plot without title"
      ]
     },
     "metadata": {
      "image/png": {
       "height": 420,
       "width": 420
      }
     },
     "output_type": "display_data"
    }
   ],
   "source": [
    "# Create a data frame with actual and predicted values\n",
    "plot_data_knn <- data.frame(Actual = y_test, Predicted = knn_model)\n",
    "\n",
    "# Plot the actual vs predicted graph\n",
    "ggplot(plot_data_knn, aes(x = Actual, y = Predicted)) +\n",
    "  geom_point(color = \"blue\") +\n",
    "  geom_abline(intercept = 0, slope = 1, color = \"red\", linetype = \"dashed\") +\n",
    "  labs(x = \"Actual\", y = \"Predicted\", title = \"Actual vs Predicted (kNN)\") +\n",
    "  theme_minimal()"
   ]
  },
  {
   "cell_type": "markdown",
   "id": "58aa584c",
   "metadata": {},
   "source": [
    "# Dataset2: "
   ]
  },
  {
   "cell_type": "code",
   "execution_count": 16,
   "id": "37c9bfcc",
   "metadata": {},
   "outputs": [
    {
     "name": "stderr",
     "output_type": "stream",
     "text": [
      "\u001b[1mRows: \u001b[22m\u001b[34m168610\u001b[39m \u001b[1mColumns: \u001b[22m\u001b[34m18\u001b[39m\n",
      "\u001b[36m──\u001b[39m \u001b[1mColumn specification\u001b[22m \u001b[36m────────────────────────────────────────────────────────\u001b[39m\n",
      "\u001b[1mDelimiter:\u001b[22m \",\"\n",
      "\u001b[31mchr\u001b[39m  (4): Station Name, Measurement Timestamp, Measurement Timestamp Label, ...\n",
      "\u001b[32mdbl\u001b[39m (14): Air Temperature, Wet Bulb Temperature, Humidity, Rain Intensity, I...\n",
      "\n",
      "\u001b[36mℹ\u001b[39m Use `spec()` to retrieve the full column specification for this data.\n",
      "\u001b[36mℹ\u001b[39m Specify the column types or set `show_col_types = FALSE` to quiet this message.\n"
     ]
    },
    {
     "data": {
      "text/html": [
       "<table class=\"dataframe\">\n",
       "<caption>A tibble: 10 × 18</caption>\n",
       "<thead>\n",
       "\t<tr><th scope=col>Station Name</th><th scope=col>Measurement Timestamp</th><th scope=col>Air Temperature</th><th scope=col>Wet Bulb Temperature</th><th scope=col>Humidity</th><th scope=col>Rain Intensity</th><th scope=col>Interval Rain</th><th scope=col>Total Rain</th><th scope=col>Precipitation Type</th><th scope=col>Wind Direction</th><th scope=col>Wind Speed</th><th scope=col>Maximum Wind Speed</th><th scope=col>Barometric Pressure</th><th scope=col>Solar Radiation</th><th scope=col>Heading</th><th scope=col>Battery Life</th><th scope=col>Measurement Timestamp Label</th><th scope=col>Measurement ID</th></tr>\n",
       "\t<tr><th scope=col>&lt;chr&gt;</th><th scope=col>&lt;chr&gt;</th><th scope=col>&lt;dbl&gt;</th><th scope=col>&lt;dbl&gt;</th><th scope=col>&lt;dbl&gt;</th><th scope=col>&lt;dbl&gt;</th><th scope=col>&lt;dbl&gt;</th><th scope=col>&lt;dbl&gt;</th><th scope=col>&lt;dbl&gt;</th><th scope=col>&lt;dbl&gt;</th><th scope=col>&lt;dbl&gt;</th><th scope=col>&lt;dbl&gt;</th><th scope=col>&lt;dbl&gt;</th><th scope=col>&lt;dbl&gt;</th><th scope=col>&lt;dbl&gt;</th><th scope=col>&lt;dbl&gt;</th><th scope=col>&lt;chr&gt;</th><th scope=col>&lt;chr&gt;</th></tr>\n",
       "</thead>\n",
       "<tbody>\n",
       "\t<tr><td>Oak Street Weather Station </td><td>06/12/2020 11:00:00 PM</td><td>13.5</td><td>10.8</td><td>72</td><td>0</td><td>0.0</td><td> 27.6</td><td>0</td><td>22</td><td>4.4</td><td> 6.2</td><td>1003.5</td><td>  0</td><td>357</td><td>12.0</td><td>06/12/2020 11:00 PM</td><td>OakStreetWeatherStation202006122300 </td></tr>\n",
       "\t<tr><td>63rd Street Weather Station</td><td>06/13/2020 12:00:00 AM</td><td>14.2</td><td>11.9</td><td>77</td><td>0</td><td>0.0</td><td>278.7</td><td>0</td><td>21</td><td>6.8</td><td>10.3</td><td>1002.2</td><td>  2</td><td>351</td><td>11.9</td><td>06/13/2020 12:00 AM</td><td>63rdStreetWeatherStation202006132400</td></tr>\n",
       "\t<tr><td>Oak Street Weather Station </td><td>06/13/2020 12:00:00 AM</td><td>14.0</td><td>11.6</td><td>76</td><td>0</td><td>0.0</td><td> 27.6</td><td>0</td><td>29</td><td>5.0</td><td> 5.8</td><td>1003.4</td><td>  0</td><td>357</td><td>12.0</td><td>06/13/2020 12:00 AM</td><td>OakStreetWeatherStation202006132400 </td></tr>\n",
       "\t<tr><td>63rd Street Weather Station</td><td>06/13/2020 03:00:00 AM</td><td>14.1</td><td>11.7</td><td>76</td><td>0</td><td>2.9</td><td>281.6</td><td>0</td><td>45</td><td>3.7</td><td> 8.5</td><td>1002.4</td><td>  3</td><td>351</td><td>11.9</td><td>06/13/2020 3:00 AM </td><td>63rdStreetWeatherStation202006130300</td></tr>\n",
       "\t<tr><td>Oak Street Weather Station </td><td>06/13/2020 03:00:00 AM</td><td>13.8</td><td>11.3</td><td>75</td><td>0</td><td>0.5</td><td> 29.0</td><td>0</td><td>39</td><td>5.2</td><td> 7.9</td><td>1003.7</td><td>  0</td><td>357</td><td>12.0</td><td>06/13/2020 3:00 AM </td><td>OakStreetWeatherStation202006130300 </td></tr>\n",
       "\t<tr><td>63rd Street Weather Station</td><td>06/13/2020 04:00:00 AM</td><td>13.6</td><td>11.3</td><td>76</td><td>0</td><td>0.9</td><td>282.5</td><td>0</td><td>27</td><td>6.6</td><td>10.1</td><td>1002.8</td><td>  2</td><td>351</td><td>11.8</td><td>06/13/2020 4:00 AM </td><td>63rdStreetWeatherStation202006130400</td></tr>\n",
       "\t<tr><td>Oak Street Weather Station </td><td>06/13/2020 04:00:00 AM</td><td>13.2</td><td>10.5</td><td>71</td><td>0</td><td>0.0</td><td> 29.0</td><td>0</td><td>34</td><td>6.7</td><td> 8.4</td><td>1004.0</td><td>  0</td><td>357</td><td>12.1</td><td>06/13/2020 4:00 AM </td><td>OakStreetWeatherStation202006130400 </td></tr>\n",
       "\t<tr><td>63rd Street Weather Station</td><td>06/13/2020 06:00:00 AM</td><td>12.7</td><td>10.8</td><td>80</td><td>0</td><td>0.0</td><td>282.5</td><td>0</td><td>27</td><td>7.6</td><td>11.4</td><td>1003.7</td><td> 30</td><td>350</td><td>11.8</td><td>06/13/2020 6:00 AM </td><td>63rdStreetWeatherStation202006130600</td></tr>\n",
       "\t<tr><td>Oak Street Weather Station </td><td>06/13/2020 06:00:00 AM</td><td>12.3</td><td>10.1</td><td>76</td><td>0</td><td>0.0</td><td> 29.0</td><td>0</td><td>38</td><td>6.4</td><td> 7.8</td><td>1005.0</td><td> 22</td><td>357</td><td>11.9</td><td>06/13/2020 6:00 AM </td><td>OakStreetWeatherStation202006130600 </td></tr>\n",
       "\t<tr><td>63rd Street Weather Station</td><td>06/13/2020 07:00:00 AM</td><td>12.5</td><td>10.9</td><td>83</td><td>0</td><td>0.0</td><td>282.5</td><td>0</td><td>20</td><td>7.6</td><td>11.5</td><td>1004.1</td><td>211</td><td>352</td><td>11.9</td><td>06/13/2020 7:00 AM </td><td>63rdStreetWeatherStation202006130700</td></tr>\n",
       "</tbody>\n",
       "</table>\n"
      ],
      "text/latex": [
       "A tibble: 10 × 18\n",
       "\\begin{tabular}{llllllllllllllllll}\n",
       " Station Name & Measurement Timestamp & Air Temperature & Wet Bulb Temperature & Humidity & Rain Intensity & Interval Rain & Total Rain & Precipitation Type & Wind Direction & Wind Speed & Maximum Wind Speed & Barometric Pressure & Solar Radiation & Heading & Battery Life & Measurement Timestamp Label & Measurement ID\\\\\n",
       " <chr> & <chr> & <dbl> & <dbl> & <dbl> & <dbl> & <dbl> & <dbl> & <dbl> & <dbl> & <dbl> & <dbl> & <dbl> & <dbl> & <dbl> & <dbl> & <chr> & <chr>\\\\\n",
       "\\hline\n",
       "\t Oak Street Weather Station  & 06/12/2020 11:00:00 PM & 13.5 & 10.8 & 72 & 0 & 0.0 &  27.6 & 0 & 22 & 4.4 &  6.2 & 1003.5 &   0 & 357 & 12.0 & 06/12/2020 11:00 PM & OakStreetWeatherStation202006122300 \\\\\n",
       "\t 63rd Street Weather Station & 06/13/2020 12:00:00 AM & 14.2 & 11.9 & 77 & 0 & 0.0 & 278.7 & 0 & 21 & 6.8 & 10.3 & 1002.2 &   2 & 351 & 11.9 & 06/13/2020 12:00 AM & 63rdStreetWeatherStation202006132400\\\\\n",
       "\t Oak Street Weather Station  & 06/13/2020 12:00:00 AM & 14.0 & 11.6 & 76 & 0 & 0.0 &  27.6 & 0 & 29 & 5.0 &  5.8 & 1003.4 &   0 & 357 & 12.0 & 06/13/2020 12:00 AM & OakStreetWeatherStation202006132400 \\\\\n",
       "\t 63rd Street Weather Station & 06/13/2020 03:00:00 AM & 14.1 & 11.7 & 76 & 0 & 2.9 & 281.6 & 0 & 45 & 3.7 &  8.5 & 1002.4 &   3 & 351 & 11.9 & 06/13/2020 3:00 AM  & 63rdStreetWeatherStation202006130300\\\\\n",
       "\t Oak Street Weather Station  & 06/13/2020 03:00:00 AM & 13.8 & 11.3 & 75 & 0 & 0.5 &  29.0 & 0 & 39 & 5.2 &  7.9 & 1003.7 &   0 & 357 & 12.0 & 06/13/2020 3:00 AM  & OakStreetWeatherStation202006130300 \\\\\n",
       "\t 63rd Street Weather Station & 06/13/2020 04:00:00 AM & 13.6 & 11.3 & 76 & 0 & 0.9 & 282.5 & 0 & 27 & 6.6 & 10.1 & 1002.8 &   2 & 351 & 11.8 & 06/13/2020 4:00 AM  & 63rdStreetWeatherStation202006130400\\\\\n",
       "\t Oak Street Weather Station  & 06/13/2020 04:00:00 AM & 13.2 & 10.5 & 71 & 0 & 0.0 &  29.0 & 0 & 34 & 6.7 &  8.4 & 1004.0 &   0 & 357 & 12.1 & 06/13/2020 4:00 AM  & OakStreetWeatherStation202006130400 \\\\\n",
       "\t 63rd Street Weather Station & 06/13/2020 06:00:00 AM & 12.7 & 10.8 & 80 & 0 & 0.0 & 282.5 & 0 & 27 & 7.6 & 11.4 & 1003.7 &  30 & 350 & 11.8 & 06/13/2020 6:00 AM  & 63rdStreetWeatherStation202006130600\\\\\n",
       "\t Oak Street Weather Station  & 06/13/2020 06:00:00 AM & 12.3 & 10.1 & 76 & 0 & 0.0 &  29.0 & 0 & 38 & 6.4 &  7.8 & 1005.0 &  22 & 357 & 11.9 & 06/13/2020 6:00 AM  & OakStreetWeatherStation202006130600 \\\\\n",
       "\t 63rd Street Weather Station & 06/13/2020 07:00:00 AM & 12.5 & 10.9 & 83 & 0 & 0.0 & 282.5 & 0 & 20 & 7.6 & 11.5 & 1004.1 & 211 & 352 & 11.9 & 06/13/2020 7:00 AM  & 63rdStreetWeatherStation202006130700\\\\\n",
       "\\end{tabular}\n"
      ],
      "text/markdown": [
       "\n",
       "A tibble: 10 × 18\n",
       "\n",
       "| Station Name &lt;chr&gt; | Measurement Timestamp &lt;chr&gt; | Air Temperature &lt;dbl&gt; | Wet Bulb Temperature &lt;dbl&gt; | Humidity &lt;dbl&gt; | Rain Intensity &lt;dbl&gt; | Interval Rain &lt;dbl&gt; | Total Rain &lt;dbl&gt; | Precipitation Type &lt;dbl&gt; | Wind Direction &lt;dbl&gt; | Wind Speed &lt;dbl&gt; | Maximum Wind Speed &lt;dbl&gt; | Barometric Pressure &lt;dbl&gt; | Solar Radiation &lt;dbl&gt; | Heading &lt;dbl&gt; | Battery Life &lt;dbl&gt; | Measurement Timestamp Label &lt;chr&gt; | Measurement ID &lt;chr&gt; |\n",
       "|---|---|---|---|---|---|---|---|---|---|---|---|---|---|---|---|---|---|\n",
       "| Oak Street Weather Station  | 06/12/2020 11:00:00 PM | 13.5 | 10.8 | 72 | 0 | 0.0 |  27.6 | 0 | 22 | 4.4 |  6.2 | 1003.5 |   0 | 357 | 12.0 | 06/12/2020 11:00 PM | OakStreetWeatherStation202006122300  |\n",
       "| 63rd Street Weather Station | 06/13/2020 12:00:00 AM | 14.2 | 11.9 | 77 | 0 | 0.0 | 278.7 | 0 | 21 | 6.8 | 10.3 | 1002.2 |   2 | 351 | 11.9 | 06/13/2020 12:00 AM | 63rdStreetWeatherStation202006132400 |\n",
       "| Oak Street Weather Station  | 06/13/2020 12:00:00 AM | 14.0 | 11.6 | 76 | 0 | 0.0 |  27.6 | 0 | 29 | 5.0 |  5.8 | 1003.4 |   0 | 357 | 12.0 | 06/13/2020 12:00 AM | OakStreetWeatherStation202006132400  |\n",
       "| 63rd Street Weather Station | 06/13/2020 03:00:00 AM | 14.1 | 11.7 | 76 | 0 | 2.9 | 281.6 | 0 | 45 | 3.7 |  8.5 | 1002.4 |   3 | 351 | 11.9 | 06/13/2020 3:00 AM  | 63rdStreetWeatherStation202006130300 |\n",
       "| Oak Street Weather Station  | 06/13/2020 03:00:00 AM | 13.8 | 11.3 | 75 | 0 | 0.5 |  29.0 | 0 | 39 | 5.2 |  7.9 | 1003.7 |   0 | 357 | 12.0 | 06/13/2020 3:00 AM  | OakStreetWeatherStation202006130300  |\n",
       "| 63rd Street Weather Station | 06/13/2020 04:00:00 AM | 13.6 | 11.3 | 76 | 0 | 0.9 | 282.5 | 0 | 27 | 6.6 | 10.1 | 1002.8 |   2 | 351 | 11.8 | 06/13/2020 4:00 AM  | 63rdStreetWeatherStation202006130400 |\n",
       "| Oak Street Weather Station  | 06/13/2020 04:00:00 AM | 13.2 | 10.5 | 71 | 0 | 0.0 |  29.0 | 0 | 34 | 6.7 |  8.4 | 1004.0 |   0 | 357 | 12.1 | 06/13/2020 4:00 AM  | OakStreetWeatherStation202006130400  |\n",
       "| 63rd Street Weather Station | 06/13/2020 06:00:00 AM | 12.7 | 10.8 | 80 | 0 | 0.0 | 282.5 | 0 | 27 | 7.6 | 11.4 | 1003.7 |  30 | 350 | 11.8 | 06/13/2020 6:00 AM  | 63rdStreetWeatherStation202006130600 |\n",
       "| Oak Street Weather Station  | 06/13/2020 06:00:00 AM | 12.3 | 10.1 | 76 | 0 | 0.0 |  29.0 | 0 | 38 | 6.4 |  7.8 | 1005.0 |  22 | 357 | 11.9 | 06/13/2020 6:00 AM  | OakStreetWeatherStation202006130600  |\n",
       "| 63rd Street Weather Station | 06/13/2020 07:00:00 AM | 12.5 | 10.9 | 83 | 0 | 0.0 | 282.5 | 0 | 20 | 7.6 | 11.5 | 1004.1 | 211 | 352 | 11.9 | 06/13/2020 7:00 AM  | 63rdStreetWeatherStation202006130700 |\n",
       "\n"
      ],
      "text/plain": [
       "   Station Name                Measurement Timestamp  Air Temperature\n",
       "1  Oak Street Weather Station  06/12/2020 11:00:00 PM 13.5           \n",
       "2  63rd Street Weather Station 06/13/2020 12:00:00 AM 14.2           \n",
       "3  Oak Street Weather Station  06/13/2020 12:00:00 AM 14.0           \n",
       "4  63rd Street Weather Station 06/13/2020 03:00:00 AM 14.1           \n",
       "5  Oak Street Weather Station  06/13/2020 03:00:00 AM 13.8           \n",
       "6  63rd Street Weather Station 06/13/2020 04:00:00 AM 13.6           \n",
       "7  Oak Street Weather Station  06/13/2020 04:00:00 AM 13.2           \n",
       "8  63rd Street Weather Station 06/13/2020 06:00:00 AM 12.7           \n",
       "9  Oak Street Weather Station  06/13/2020 06:00:00 AM 12.3           \n",
       "10 63rd Street Weather Station 06/13/2020 07:00:00 AM 12.5           \n",
       "   Wet Bulb Temperature Humidity Rain Intensity Interval Rain Total Rain\n",
       "1  10.8                 72       0              0.0            27.6     \n",
       "2  11.9                 77       0              0.0           278.7     \n",
       "3  11.6                 76       0              0.0            27.6     \n",
       "4  11.7                 76       0              2.9           281.6     \n",
       "5  11.3                 75       0              0.5            29.0     \n",
       "6  11.3                 76       0              0.9           282.5     \n",
       "7  10.5                 71       0              0.0            29.0     \n",
       "8  10.8                 80       0              0.0           282.5     \n",
       "9  10.1                 76       0              0.0            29.0     \n",
       "10 10.9                 83       0              0.0           282.5     \n",
       "   Precipitation Type Wind Direction Wind Speed Maximum Wind Speed\n",
       "1  0                  22             4.4         6.2              \n",
       "2  0                  21             6.8        10.3              \n",
       "3  0                  29             5.0         5.8              \n",
       "4  0                  45             3.7         8.5              \n",
       "5  0                  39             5.2         7.9              \n",
       "6  0                  27             6.6        10.1              \n",
       "7  0                  34             6.7         8.4              \n",
       "8  0                  27             7.6        11.4              \n",
       "9  0                  38             6.4         7.8              \n",
       "10 0                  20             7.6        11.5              \n",
       "   Barometric Pressure Solar Radiation Heading Battery Life\n",
       "1  1003.5                0             357     12.0        \n",
       "2  1002.2                2             351     11.9        \n",
       "3  1003.4                0             357     12.0        \n",
       "4  1002.4                3             351     11.9        \n",
       "5  1003.7                0             357     12.0        \n",
       "6  1002.8                2             351     11.8        \n",
       "7  1004.0                0             357     12.1        \n",
       "8  1003.7               30             350     11.8        \n",
       "9  1005.0               22             357     11.9        \n",
       "10 1004.1              211             352     11.9        \n",
       "   Measurement Timestamp Label Measurement ID                      \n",
       "1  06/12/2020 11:00 PM         OakStreetWeatherStation202006122300 \n",
       "2  06/13/2020 12:00 AM         63rdStreetWeatherStation202006132400\n",
       "3  06/13/2020 12:00 AM         OakStreetWeatherStation202006132400 \n",
       "4  06/13/2020 3:00 AM          63rdStreetWeatherStation202006130300\n",
       "5  06/13/2020 3:00 AM          OakStreetWeatherStation202006130300 \n",
       "6  06/13/2020 4:00 AM          63rdStreetWeatherStation202006130400\n",
       "7  06/13/2020 4:00 AM          OakStreetWeatherStation202006130400 \n",
       "8  06/13/2020 6:00 AM          63rdStreetWeatherStation202006130600\n",
       "9  06/13/2020 6:00 AM          OakStreetWeatherStation202006130600 \n",
       "10 06/13/2020 7:00 AM          63rdStreetWeatherStation202006130700"
      ]
     },
     "metadata": {},
     "output_type": "display_data"
    }
   ],
   "source": [
    "# Read the CSV file\n",
    "Beachweather_path <- read_csv(\"Desktop/dmml_Ca1/Beach_Weather_Stations_Automated_Sensors.csv\")\n",
    "\n",
    "# Subset the data starting from the 10001st row\n",
    "beachweather_trimmed <- Beachweather_path[10000:nrow(Beachweather_path), ]\n",
    "\n",
    "# Print the first 10 rows\n",
    "head(beachweather_trimmed, 10)"
   ]
  },
  {
   "cell_type": "code",
   "execution_count": 17,
   "id": "7f39e745",
   "metadata": {},
   "outputs": [
    {
     "name": "stdout",
     "output_type": "stream",
     "text": [
      "tibble [158,611 × 18] (S3: tbl_df/tbl/data.frame)\n",
      " $ Station Name               : chr [1:158611] \"Oak Street Weather Station\" \"63rd Street Weather Station\" \"Oak Street Weather Station\" \"63rd Street Weather Station\" ...\n",
      " $ Measurement Timestamp      : chr [1:158611] \"06/12/2020 11:00:00 PM\" \"06/13/2020 12:00:00 AM\" \"06/13/2020 12:00:00 AM\" \"06/13/2020 03:00:00 AM\" ...\n",
      " $ Air Temperature            : num [1:158611] 13.5 14.2 14 14.1 13.8 13.6 13.2 12.7 12.3 12.5 ...\n",
      " $ Wet Bulb Temperature       : num [1:158611] 10.8 11.9 11.6 11.7 11.3 11.3 10.5 10.8 10.1 10.9 ...\n",
      " $ Humidity                   : num [1:158611] 72 77 76 76 75 76 71 80 76 83 ...\n",
      " $ Rain Intensity             : num [1:158611] 0 0 0 0 0 0 0 0 0 0 ...\n",
      " $ Interval Rain              : num [1:158611] 0 0 0 2.9 0.5 0.9 0 0 0 0 ...\n",
      " $ Total Rain                 : num [1:158611] 27.6 278.7 27.6 281.6 29 ...\n",
      " $ Precipitation Type         : num [1:158611] 0 0 0 0 0 0 0 0 0 0 ...\n",
      " $ Wind Direction             : num [1:158611] 22 21 29 45 39 27 34 27 38 20 ...\n",
      " $ Wind Speed                 : num [1:158611] 4.4 6.8 5 3.7 5.2 6.6 6.7 7.6 6.4 7.6 ...\n",
      " $ Maximum Wind Speed         : num [1:158611] 6.2 10.3 5.8 8.5 7.9 10.1 8.4 11.4 7.8 11.5 ...\n",
      " $ Barometric Pressure        : num [1:158611] 1004 1002 1003 1002 1004 ...\n",
      " $ Solar Radiation            : num [1:158611] 0 2 0 3 0 2 0 30 22 211 ...\n",
      " $ Heading                    : num [1:158611] 357 351 357 351 357 351 357 350 357 352 ...\n",
      " $ Battery Life               : num [1:158611] 12 11.9 12 11.9 12 11.8 12.1 11.8 11.9 11.9 ...\n",
      " $ Measurement Timestamp Label: chr [1:158611] \"06/12/2020 11:00 PM\" \"06/13/2020 12:00 AM\" \"06/13/2020 12:00 AM\" \"06/13/2020 3:00 AM\" ...\n",
      " $ Measurement ID             : chr [1:158611] \"OakStreetWeatherStation202006122300\" \"63rdStreetWeatherStation202006132400\" \"OakStreetWeatherStation202006132400\" \"63rdStreetWeatherStation202006130300\" ...\n"
     ]
    }
   ],
   "source": [
    "str(beachweather_trimmed)"
   ]
  },
  {
   "cell_type": "code",
   "execution_count": 18,
   "id": "6d1f4e47",
   "metadata": {},
   "outputs": [
    {
     "name": "stdout",
     "output_type": "stream",
     "text": [
      " [1] \"Measurement Timestamp\" \"Air Temperature\"       \"Wet Bulb Temperature\" \n",
      " [4] \"Humidity\"              \"Rain Intensity\"        \"Total Rain\"           \n",
      " [7] \"Wind Direction\"        \"Wind Speed\"            \"Barometric Pressure\"  \n",
      "[10] \"Battery Life\"         \n"
     ]
    }
   ],
   "source": [
    "# Define columns to remove\n",
    "columns_to_remove <- c('Station Name', 'Interval Rain', 'Precipitation Type', 'Measurement ID',\n",
    "                       'Measurement Timestamp Label', 'Heading', 'Solar Radiation', 'Maximum Wind Speed')\n",
    "\n",
    "# Remove the specified columns\n",
    "beachweather_trimmed <- beachweather_trimmed[, !colnames(beachweather_trimmed) %in% columns_to_remove]\n",
    "\n",
    "# Print the column names\n",
    "print(colnames(beachweather_trimmed))"
   ]
  },
  {
   "cell_type": "code",
   "execution_count": 19,
   "id": "b62a5e0b",
   "metadata": {},
   "outputs": [
    {
     "data": {
      "text/html": [
       "<style>\n",
       ".dl-inline {width: auto; margin:0; padding: 0}\n",
       ".dl-inline>dt, .dl-inline>dd {float: none; width: auto; display: inline-block}\n",
       ".dl-inline>dt::after {content: \":\\0020\"; padding-right: .5ex}\n",
       ".dl-inline>dt:not(:first-of-type) {padding-left: .5ex}\n",
       "</style><dl class=dl-inline><dt>Measurement Timestamp</dt><dd>0</dd><dt>Air Temperature</dt><dd>75</dd><dt>Wet Bulb Temperature</dt><dd>55510</dd><dt>Humidity</dt><dd>0</dd><dt>Rain Intensity</dt><dd>55510</dd><dt>Total Rain</dt><dd>55510</dd><dt>Wind Direction</dt><dd>0</dd><dt>Wind Speed</dt><dd>0</dd><dt>Barometric Pressure</dt><dd>146</dd><dt>Battery Life</dt><dd>0</dd></dl>\n"
      ],
      "text/latex": [
       "\\begin{description*}\n",
       "\\item[Measurement Timestamp] 0\n",
       "\\item[Air Temperature] 75\n",
       "\\item[Wet Bulb Temperature] 55510\n",
       "\\item[Humidity] 0\n",
       "\\item[Rain Intensity] 55510\n",
       "\\item[Total Rain] 55510\n",
       "\\item[Wind Direction] 0\n",
       "\\item[Wind Speed] 0\n",
       "\\item[Barometric Pressure] 146\n",
       "\\item[Battery Life] 0\n",
       "\\end{description*}\n"
      ],
      "text/markdown": [
       "Measurement Timestamp\n",
       ":   0Air Temperature\n",
       ":   75Wet Bulb Temperature\n",
       ":   55510Humidity\n",
       ":   0Rain Intensity\n",
       ":   55510Total Rain\n",
       ":   55510Wind Direction\n",
       ":   0Wind Speed\n",
       ":   0Barometric Pressure\n",
       ":   146Battery Life\n",
       ":   0\n",
       "\n"
      ],
      "text/plain": [
       "Measurement Timestamp       Air Temperature  Wet Bulb Temperature \n",
       "                    0                    75                 55510 \n",
       "             Humidity        Rain Intensity            Total Rain \n",
       "                    0                 55510                 55510 \n",
       "       Wind Direction            Wind Speed   Barometric Pressure \n",
       "                    0                     0                   146 \n",
       "         Battery Life \n",
       "                    0 "
      ]
     },
     "metadata": {},
     "output_type": "display_data"
    }
   ],
   "source": [
    "colSums(is.na(beachweather_trimmed))"
   ]
  },
  {
   "cell_type": "code",
   "execution_count": 20,
   "id": "18788322",
   "metadata": {},
   "outputs": [
    {
     "data": {
      "text/html": [
       "<style>\n",
       ".dl-inline {width: auto; margin:0; padding: 0}\n",
       ".dl-inline>dt, .dl-inline>dd {float: none; width: auto; display: inline-block}\n",
       ".dl-inline>dt::after {content: \":\\0020\"; padding-right: .5ex}\n",
       ".dl-inline>dt:not(:first-of-type) {padding-left: .5ex}\n",
       "</style><dl class=dl-inline><dt>Measurement Timestamp</dt><dd>0</dd><dt>Air Temperature</dt><dd>0</dd><dt>Wet Bulb Temperature</dt><dd>0</dd><dt>Humidity</dt><dd>0</dd><dt>Rain Intensity</dt><dd>0</dd><dt>Total Rain</dt><dd>0</dd><dt>Wind Direction</dt><dd>0</dd><dt>Wind Speed</dt><dd>0</dd><dt>Barometric Pressure</dt><dd>0</dd><dt>Battery Life</dt><dd>0</dd></dl>\n"
      ],
      "text/latex": [
       "\\begin{description*}\n",
       "\\item[Measurement Timestamp] 0\n",
       "\\item[Air Temperature] 0\n",
       "\\item[Wet Bulb Temperature] 0\n",
       "\\item[Humidity] 0\n",
       "\\item[Rain Intensity] 0\n",
       "\\item[Total Rain] 0\n",
       "\\item[Wind Direction] 0\n",
       "\\item[Wind Speed] 0\n",
       "\\item[Barometric Pressure] 0\n",
       "\\item[Battery Life] 0\n",
       "\\end{description*}\n"
      ],
      "text/markdown": [
       "Measurement Timestamp\n",
       ":   0Air Temperature\n",
       ":   0Wet Bulb Temperature\n",
       ":   0Humidity\n",
       ":   0Rain Intensity\n",
       ":   0Total Rain\n",
       ":   0Wind Direction\n",
       ":   0Wind Speed\n",
       ":   0Barometric Pressure\n",
       ":   0Battery Life\n",
       ":   0\n",
       "\n"
      ],
      "text/plain": [
       "Measurement Timestamp       Air Temperature  Wet Bulb Temperature \n",
       "                    0                     0                     0 \n",
       "             Humidity        Rain Intensity            Total Rain \n",
       "                    0                     0                     0 \n",
       "       Wind Direction            Wind Speed   Barometric Pressure \n",
       "                    0                     0                     0 \n",
       "         Battery Life \n",
       "                    0 "
      ]
     },
     "metadata": {},
     "output_type": "display_data"
    }
   ],
   "source": [
    "# Remove rows with missing values\n",
    "beachweather_cleaned <- na.omit(beachweather_trimmed)\n",
    "colSums(is.na(beachweather_cleaned))"
   ]
  },
  {
   "cell_type": "code",
   "execution_count": 21,
   "id": "9c7ccbd3",
   "metadata": {},
   "outputs": [
    {
     "data": {
      "text/html": [
       "103026"
      ],
      "text/latex": [
       "103026"
      ],
      "text/markdown": [
       "103026"
      ],
      "text/plain": [
       "[1] 103026"
      ]
     },
     "metadata": {},
     "output_type": "display_data"
    },
    {
     "data": {
      "text/html": [
       "10"
      ],
      "text/latex": [
       "10"
      ],
      "text/markdown": [
       "10"
      ],
      "text/plain": [
       "[1] 10"
      ]
     },
     "metadata": {},
     "output_type": "display_data"
    }
   ],
   "source": [
    "nrow(beachweather_cleaned)\n",
    "ncol(beachweather_cleaned)"
   ]
  },
  {
   "cell_type": "code",
   "execution_count": null,
   "id": "7f2904cd",
   "metadata": {},
   "outputs": [],
   "source": []
  },
  {
   "cell_type": "code",
   "execution_count": null,
   "id": "e7c22f6a",
   "metadata": {},
   "outputs": [],
   "source": []
  },
  {
   "cell_type": "code",
   "execution_count": 22,
   "id": "b34716d2",
   "metadata": {},
   "outputs": [
    {
     "name": "stdout",
     "output_type": "stream",
     "text": [
      "[1] \"Accuracy: 0.9642\"\n",
      "[1] \"F1 Score: 0.9818\"\n"
     ]
    }
   ],
   "source": [
    "# Load the required library\n",
    "library(caret)\n",
    "\n",
    "# Remove the specified columns\n",
    "X <- beachweather_cleaned[, !(names(beachweather_cleaned) %in% c('Rain Intensity', 'Battery Life', 'Measurement Timestamp'))]\n",
    "\n",
    "# Create the binary response variable y\n",
    "y <- as.integer(beachweather_cleaned$`Rain Intensity` > 0)\n",
    "\n",
    "# Split the data into training and testing sets (70% train, 30% test)\n",
    "set.seed(42)\n",
    "trainIndex <- createDataPartition(y, p = 0.7, list = FALSE)\n",
    "X_train <- X[trainIndex, ]\n",
    "y_train <- y[trainIndex]\n",
    "X_test <- X[-trainIndex, ]\n",
    "y_test <- y[-trainIndex]\n",
    "\n",
    "# Standardize the features by removing the mean and scaling to unit variance\n",
    "preProcValues <- preProcess(X_train, method = c(\"center\", \"scale\"))\n",
    "X_train_scaled <- predict(preProcValues, X_train)\n",
    "X_test_scaled <- predict(preProcValues, X_test)\n",
    "\n",
    "# Initialize and train the logistic regression model\n",
    "logreg_model <- glm(y_train ~ ., data = as.data.frame(X_train_scaled), family = binomial)\n",
    "\n",
    "# Predict on the test set\n",
    "y_pred_prob <- predict(logreg_model, newdata = as.data.frame(X_test_scaled), type = \"response\")\n",
    "\n",
    "# Convert predicted probabilities to binary predictions\n",
    "y_pred_binary <- ifelse(y_pred_prob > 0.5, 1, 0)\n",
    "\n",
    "# Calculate accuracy\n",
    "accuracy <- sum(y_pred_binary == y_test) / length(y_test)\n",
    "print(paste(\"Accuracy:\", round(accuracy, digits = 4)))\n",
    "\n",
    "# Compute confusion matrix\n",
    "conf_matrix <- confusionMatrix(data = factor(y_pred_binary), reference = factor(y_test))\n",
    "\n",
    "# Extract F1 score from confusion matrix\n",
    "f1_score <- 2 * conf_matrix$byClass[\"Pos Pred Value\"] * conf_matrix$byClass[\"Sensitivity\"] / (conf_matrix$byClass[\"Pos Pred Value\"] + conf_matrix$byClass[\"Sensitivity\"])\n",
    "\n",
    "# Print F1 score\n",
    "print(paste(\"F1 Score:\", round(f1_score, digits = 4)))"
   ]
  },
  {
   "cell_type": "code",
   "execution_count": 23,
   "id": "9a546824",
   "metadata": {},
   "outputs": [
    {
     "data": {
      "image/png": "[encoded data removed]",
      "text/plain": [
       "Plot with title \"Actual vs Predicted Probability\""
      ]
     },
     "metadata": {
      "image/png": {
       "height": 420,
       "width": 420
      }
     },
     "output_type": "display_data"
    }
   ],
   "source": [
    "# Plot actual vs predicted graph\n",
    "plot(y_test, y_pred_prob, xlab = \"Actual\", ylab = \"Predicted Probability\", main = \"Actual vs Predicted Probability\", col = \"blue\")\n",
    "\n",
    "# Add a reference line for y = x\n",
    "abline(0, 1, col = \"red\")\n",
    "\n",
    "# Add legend\n",
    "legend(\"topleft\", legend = c(\"Actual vs Predicted\"), col = c(\"blue\"), pch = 1)\n"
   ]
  },
  {
   "cell_type": "code",
   "execution_count": 24,
   "id": "86a3fe0e",
   "metadata": {},
   "outputs": [
    {
     "name": "stdout",
     "output_type": "stream",
     "text": [
      "[1] \"Accuracy: 0.9635\"\n",
      "[1] \"F1 Score: 0.9814\"\n"
     ]
    }
   ],
   "source": [
    "# Initialize and train the K Nearest Neighbors classifier\n",
    "k <- 5  # Number of neighbors\n",
    "knn_model <- knn(train = X_train, test = X_test, cl = y_train, k = k)\n",
    "\n",
    "# Calculate accuracy\n",
    "accuracy <- sum(knn_model == y_test) / length(y_test)\n",
    "print(paste(\"Accuracy:\", round(accuracy, digits = 4)))\n",
    "\n",
    "# Compute confusion matrix for KNN model\n",
    "conf_matrix_knn <- confusionMatrix(data = factor(knn_model), reference = factor(y_test))\n",
    "\n",
    "# Extract F1 score from confusion matrix for KNN model\n",
    "f1_score_knn <- 2 * conf_matrix_knn$byClass[\"Pos Pred Value\"] * conf_matrix_knn$byClass[\"Sensitivity\"] / (conf_matrix_knn$byClass[\"Pos Pred Value\"] + conf_matrix_knn$byClass[\"Sensitivity\"])\n",
    "\n",
    "# Print F1 score for KNN model\n",
    "print(paste(\"F1 Score:\", round(f1_score_knn, digits = 4)))"
   ]
  },
  {
   "cell_type": "code",
   "execution_count": 25,
   "id": "bb61daf8",
   "metadata": {},
   "outputs": [
    {
     "data": {
      "image/png": "[encoded data removed]",
      "text/plain": [
       "plot without title"
      ]
     },
     "metadata": {
      "image/png": {
       "height": 420,
       "width": 420
      }
     },
     "output_type": "display_data"
    }
   ],
   "source": [
    "# Create a data frame with actual and predicted values\n",
    "plot_data_knn <- data.frame(Actual = y_test, Predicted = knn_model)\n",
    "\n",
    "# Plot the actual vs predicted graph\n",
    "ggplot(plot_data_knn, aes(x = Actual, y = Predicted)) +\n",
    "  geom_point(color = \"blue\") +\n",
    "  geom_abline(intercept = 0, slope = 1, color = \"red\", linetype = \"dashed\") +\n",
    "  labs(x = \"Actual\", y = \"Predicted\", title = \"Actual vs Predicted (kNN)\") +\n",
    "  theme_minimal()"
   ]
  },
  {
   "cell_type": "markdown",
   "id": "41fe22b5",
   "metadata": {},
   "source": [
    "# Dataset 3: Real estate"
   ]
  },
  {
   "cell_type": "code",
   "execution_count": 26,
   "id": "b013e154",
   "metadata": {},
   "outputs": [
    {
     "name": "stderr",
     "output_type": "stream",
     "text": [
      "\u001b[1mRows: \u001b[22m\u001b[34m1054159\u001b[39m \u001b[1mColumns: \u001b[22m\u001b[34m14\u001b[39m\n",
      "\u001b[36m──\u001b[39m \u001b[1mColumn specification\u001b[22m \u001b[36m────────────────────────────────────────────────────────\u001b[39m\n",
      "\u001b[1mDelimiter:\u001b[22m \",\"\n",
      "\u001b[31mchr\u001b[39m (9): Date Recorded, Town, Address, Property Type, Residential Type, Non ...\n",
      "\u001b[32mdbl\u001b[39m (5): Serial Number, List Year, Assessed Value, Sale Amount, Sales Ratio\n",
      "\n",
      "\u001b[36mℹ\u001b[39m Use `spec()` to retrieve the full column specification for this data.\n",
      "\u001b[36mℹ\u001b[39m Specify the column types or set `show_col_types = FALSE` to quiet this message.\n"
     ]
    },
    {
     "data": {
      "text/html": [
       "<table class=\"dataframe\">\n",
       "<caption>A tibble: 10 × 14</caption>\n",
       "<thead>\n",
       "\t<tr><th scope=col>Serial Number</th><th scope=col>List Year</th><th scope=col>Date Recorded</th><th scope=col>Town</th><th scope=col>Address</th><th scope=col>Assessed Value</th><th scope=col>Sale Amount</th><th scope=col>Sales Ratio</th><th scope=col>Property Type</th><th scope=col>Residential Type</th><th scope=col>Non Use Code</th><th scope=col>Assessor Remarks</th><th scope=col>OPM remarks</th><th scope=col>Location</th></tr>\n",
       "\t<tr><th scope=col>&lt;dbl&gt;</th><th scope=col>&lt;dbl&gt;</th><th scope=col>&lt;chr&gt;</th><th scope=col>&lt;chr&gt;</th><th scope=col>&lt;chr&gt;</th><th scope=col>&lt;dbl&gt;</th><th scope=col>&lt;dbl&gt;</th><th scope=col>&lt;dbl&gt;</th><th scope=col>&lt;chr&gt;</th><th scope=col>&lt;chr&gt;</th><th scope=col>&lt;chr&gt;</th><th scope=col>&lt;chr&gt;</th><th scope=col>&lt;chr&gt;</th><th scope=col>&lt;chr&gt;</th></tr>\n",
       "</thead>\n",
       "<tbody>\n",
       "\t<tr><td>2020348</td><td>2020</td><td>09/13/2021</td><td>Ansonia</td><td>230 WAKELEE AVE      </td><td>150500</td><td> 325000</td><td>0.4630</td><td>Commercial </td><td>NA           </td><td>NA                </td><td>NA</td><td>NA</td><td>NA                                </td></tr>\n",
       "\t<tr><td>  20002</td><td>2020</td><td>10/02/2020</td><td>Ashford</td><td>390 TURNPIKE RD      </td><td>253000</td><td> 430000</td><td>0.5883</td><td>Residential</td><td>Single Family</td><td>NA                </td><td>NA</td><td>NA</td><td>NA                                </td></tr>\n",
       "\t<tr><td> 210317</td><td>2021</td><td>07/05/2022</td><td>Avon   </td><td>53 COTSWOLD WAY      </td><td>329730</td><td> 805000</td><td>0.4096</td><td>Residential</td><td>Single Family</td><td>NA                </td><td>NA</td><td>NA</td><td>POINT (-72.846365959 41.781677018)</td></tr>\n",
       "\t<tr><td> 200212</td><td>2020</td><td>03/09/2021</td><td>Avon   </td><td>5 CHESTNUT DRIVE     </td><td>130400</td><td> 179900</td><td>0.7248</td><td>Residential</td><td>Condo        </td><td>NA                </td><td>NA</td><td>NA</td><td>NA                                </td></tr>\n",
       "\t<tr><td> 200243</td><td>2020</td><td>04/13/2021</td><td>Avon   </td><td>111 NORTHINGTON DRIVE</td><td>619290</td><td> 890000</td><td>0.6958</td><td>Residential</td><td>Single Family</td><td>NA                </td><td>NA</td><td>NA</td><td>NA                                </td></tr>\n",
       "\t<tr><td> 200377</td><td>2020</td><td>07/02/2021</td><td>Avon   </td><td>70 FAR HILLS DRIVE   </td><td>862330</td><td>1447500</td><td>0.5957</td><td>Residential</td><td>Single Family</td><td>NA                </td><td>NA</td><td>NA</td><td>NA                                </td></tr>\n",
       "\t<tr><td> 200109</td><td>2020</td><td>12/09/2020</td><td>Avon   </td><td>57 FAR HILLS DRIVE   </td><td>847520</td><td>1250000</td><td>0.6780</td><td>Residential</td><td>Single Family</td><td>NA                </td><td>NA</td><td>NA</td><td>NA                                </td></tr>\n",
       "\t<tr><td>2020180</td><td>2020</td><td>03/01/2021</td><td>Berlin </td><td>1539 FARMINGTON AVE  </td><td>234200</td><td> 130000</td><td>1.8015</td><td>Residential</td><td>Two Family   </td><td>08 - Part Interest</td><td>NA</td><td>NA</td><td>NA                                </td></tr>\n",
       "\t<tr><td>2020313</td><td>2020</td><td>07/01/2021</td><td>Berlin </td><td>216 WATCH HILL RD    </td><td>412000</td><td> 677500</td><td>0.6081</td><td>Residential</td><td>Single Family</td><td>NA                </td><td>NA</td><td>NA</td><td>NA                                </td></tr>\n",
       "\t<tr><td> 200097</td><td>2020</td><td>06/04/2021</td><td>Bethany</td><td>23 AMITY RD          </td><td>511000</td><td> 795000</td><td>0.6427</td><td>Commercial </td><td>NA           </td><td>NA                </td><td>NA</td><td>NA</td><td>NA                                </td></tr>\n",
       "</tbody>\n",
       "</table>\n"
      ],
      "text/latex": [
       "A tibble: 10 × 14\n",
       "\\begin{tabular}{llllllllllllll}\n",
       " Serial Number & List Year & Date Recorded & Town & Address & Assessed Value & Sale Amount & Sales Ratio & Property Type & Residential Type & Non Use Code & Assessor Remarks & OPM remarks & Location\\\\\n",
       " <dbl> & <dbl> & <chr> & <chr> & <chr> & <dbl> & <dbl> & <dbl> & <chr> & <chr> & <chr> & <chr> & <chr> & <chr>\\\\\n",
       "\\hline\n",
       "\t 2020348 & 2020 & 09/13/2021 & Ansonia & 230 WAKELEE AVE       & 150500 &  325000 & 0.4630 & Commercial  & NA            & NA                 & NA & NA & NA                                \\\\\n",
       "\t   20002 & 2020 & 10/02/2020 & Ashford & 390 TURNPIKE RD       & 253000 &  430000 & 0.5883 & Residential & Single Family & NA                 & NA & NA & NA                                \\\\\n",
       "\t  210317 & 2021 & 07/05/2022 & Avon    & 53 COTSWOLD WAY       & 329730 &  805000 & 0.4096 & Residential & Single Family & NA                 & NA & NA & POINT (-72.846365959 41.781677018)\\\\\n",
       "\t  200212 & 2020 & 03/09/2021 & Avon    & 5 CHESTNUT DRIVE      & 130400 &  179900 & 0.7248 & Residential & Condo         & NA                 & NA & NA & NA                                \\\\\n",
       "\t  200243 & 2020 & 04/13/2021 & Avon    & 111 NORTHINGTON DRIVE & 619290 &  890000 & 0.6958 & Residential & Single Family & NA                 & NA & NA & NA                                \\\\\n",
       "\t  200377 & 2020 & 07/02/2021 & Avon    & 70 FAR HILLS DRIVE    & 862330 & 1447500 & 0.5957 & Residential & Single Family & NA                 & NA & NA & NA                                \\\\\n",
       "\t  200109 & 2020 & 12/09/2020 & Avon    & 57 FAR HILLS DRIVE    & 847520 & 1250000 & 0.6780 & Residential & Single Family & NA                 & NA & NA & NA                                \\\\\n",
       "\t 2020180 & 2020 & 03/01/2021 & Berlin  & 1539 FARMINGTON AVE   & 234200 &  130000 & 1.8015 & Residential & Two Family    & 08 - Part Interest & NA & NA & NA                                \\\\\n",
       "\t 2020313 & 2020 & 07/01/2021 & Berlin  & 216 WATCH HILL RD     & 412000 &  677500 & 0.6081 & Residential & Single Family & NA                 & NA & NA & NA                                \\\\\n",
       "\t  200097 & 2020 & 06/04/2021 & Bethany & 23 AMITY RD           & 511000 &  795000 & 0.6427 & Commercial  & NA            & NA                 & NA & NA & NA                                \\\\\n",
       "\\end{tabular}\n"
      ],
      "text/markdown": [
       "\n",
       "A tibble: 10 × 14\n",
       "\n",
       "| Serial Number &lt;dbl&gt; | List Year &lt;dbl&gt; | Date Recorded &lt;chr&gt; | Town &lt;chr&gt; | Address &lt;chr&gt; | Assessed Value &lt;dbl&gt; | Sale Amount &lt;dbl&gt; | Sales Ratio &lt;dbl&gt; | Property Type &lt;chr&gt; | Residential Type &lt;chr&gt; | Non Use Code &lt;chr&gt; | Assessor Remarks &lt;chr&gt; | OPM remarks &lt;chr&gt; | Location &lt;chr&gt; |\n",
       "|---|---|---|---|---|---|---|---|---|---|---|---|---|---|\n",
       "| 2020348 | 2020 | 09/13/2021 | Ansonia | 230 WAKELEE AVE       | 150500 |  325000 | 0.4630 | Commercial  | NA            | NA                 | NA | NA | NA                                 |\n",
       "|   20002 | 2020 | 10/02/2020 | Ashford | 390 TURNPIKE RD       | 253000 |  430000 | 0.5883 | Residential | Single Family | NA                 | NA | NA | NA                                 |\n",
       "|  210317 | 2021 | 07/05/2022 | Avon    | 53 COTSWOLD WAY       | 329730 |  805000 | 0.4096 | Residential | Single Family | NA                 | NA | NA | POINT (-72.846365959 41.781677018) |\n",
       "|  200212 | 2020 | 03/09/2021 | Avon    | 5 CHESTNUT DRIVE      | 130400 |  179900 | 0.7248 | Residential | Condo         | NA                 | NA | NA | NA                                 |\n",
       "|  200243 | 2020 | 04/13/2021 | Avon    | 111 NORTHINGTON DRIVE | 619290 |  890000 | 0.6958 | Residential | Single Family | NA                 | NA | NA | NA                                 |\n",
       "|  200377 | 2020 | 07/02/2021 | Avon    | 70 FAR HILLS DRIVE    | 862330 | 1447500 | 0.5957 | Residential | Single Family | NA                 | NA | NA | NA                                 |\n",
       "|  200109 | 2020 | 12/09/2020 | Avon    | 57 FAR HILLS DRIVE    | 847520 | 1250000 | 0.6780 | Residential | Single Family | NA                 | NA | NA | NA                                 |\n",
       "| 2020180 | 2020 | 03/01/2021 | Berlin  | 1539 FARMINGTON AVE   | 234200 |  130000 | 1.8015 | Residential | Two Family    | 08 - Part Interest | NA | NA | NA                                 |\n",
       "| 2020313 | 2020 | 07/01/2021 | Berlin  | 216 WATCH HILL RD     | 412000 |  677500 | 0.6081 | Residential | Single Family | NA                 | NA | NA | NA                                 |\n",
       "|  200097 | 2020 | 06/04/2021 | Bethany | 23 AMITY RD           | 511000 |  795000 | 0.6427 | Commercial  | NA            | NA                 | NA | NA | NA                                 |\n",
       "\n"
      ],
      "text/plain": [
       "   Serial Number List Year Date Recorded Town    Address              \n",
       "1  2020348       2020      09/13/2021    Ansonia 230 WAKELEE AVE      \n",
       "2    20002       2020      10/02/2020    Ashford 390 TURNPIKE RD      \n",
       "3   210317       2021      07/05/2022    Avon    53 COTSWOLD WAY      \n",
       "4   200212       2020      03/09/2021    Avon    5 CHESTNUT DRIVE     \n",
       "5   200243       2020      04/13/2021    Avon    111 NORTHINGTON DRIVE\n",
       "6   200377       2020      07/02/2021    Avon    70 FAR HILLS DRIVE   \n",
       "7   200109       2020      12/09/2020    Avon    57 FAR HILLS DRIVE   \n",
       "8  2020180       2020      03/01/2021    Berlin  1539 FARMINGTON AVE  \n",
       "9  2020313       2020      07/01/2021    Berlin  216 WATCH HILL RD    \n",
       "10  200097       2020      06/04/2021    Bethany 23 AMITY RD          \n",
       "   Assessed Value Sale Amount Sales Ratio Property Type Residential Type\n",
       "1  150500          325000     0.4630      Commercial    NA              \n",
       "2  253000          430000     0.5883      Residential   Single Family   \n",
       "3  329730          805000     0.4096      Residential   Single Family   \n",
       "4  130400          179900     0.7248      Residential   Condo           \n",
       "5  619290          890000     0.6958      Residential   Single Family   \n",
       "6  862330         1447500     0.5957      Residential   Single Family   \n",
       "7  847520         1250000     0.6780      Residential   Single Family   \n",
       "8  234200          130000     1.8015      Residential   Two Family      \n",
       "9  412000          677500     0.6081      Residential   Single Family   \n",
       "10 511000          795000     0.6427      Commercial    NA              \n",
       "   Non Use Code       Assessor Remarks OPM remarks\n",
       "1  NA                 NA               NA         \n",
       "2  NA                 NA               NA         \n",
       "3  NA                 NA               NA         \n",
       "4  NA                 NA               NA         \n",
       "5  NA                 NA               NA         \n",
       "6  NA                 NA               NA         \n",
       "7  NA                 NA               NA         \n",
       "8  08 - Part Interest NA               NA         \n",
       "9  NA                 NA               NA         \n",
       "10 NA                 NA               NA         \n",
       "   Location                          \n",
       "1  NA                                \n",
       "2  NA                                \n",
       "3  POINT (-72.846365959 41.781677018)\n",
       "4  NA                                \n",
       "5  NA                                \n",
       "6  NA                                \n",
       "7  NA                                \n",
       "8  NA                                \n",
       "9  NA                                \n",
       "10 NA                                "
      ]
     },
     "metadata": {},
     "output_type": "display_data"
    }
   ],
   "source": [
    "# Read the CSV file\n",
    "Real_estate_path <- read_csv(\"Desktop/dmml_Ca1/Real_Estate_Sales_2001-2021_GL.csv\")\n",
    "\n",
    "# Subset the data starting from the 10001st row\n",
    "Real_estate_path_trimmed <- Real_estate_path[1:10000, ]\n",
    "\n",
    "# Print the first 10 rows\n",
    "head(Real_estate_path_trimmed, 10)"
   ]
  },
  {
   "cell_type": "code",
   "execution_count": 27,
   "id": "b4ff3ce5",
   "metadata": {},
   "outputs": [
    {
     "name": "stdout",
     "output_type": "stream",
     "text": [
      "tibble [10,000 × 14] (S3: tbl_df/tbl/data.frame)\n",
      " $ Serial Number   : num [1:10000] 2020348 20002 210317 200212 200243 ...\n",
      " $ List Year       : num [1:10000] 2020 2020 2021 2020 2020 ...\n",
      " $ Date Recorded   : chr [1:10000] \"09/13/2021\" \"10/02/2020\" \"07/05/2022\" \"03/09/2021\" ...\n",
      " $ Town            : chr [1:10000] \"Ansonia\" \"Ashford\" \"Avon\" \"Avon\" ...\n",
      " $ Address         : chr [1:10000] \"230 WAKELEE AVE\" \"390 TURNPIKE RD\" \"53 COTSWOLD WAY\" \"5 CHESTNUT DRIVE\" ...\n",
      " $ Assessed Value  : num [1:10000] 150500 253000 329730 130400 619290 ...\n",
      " $ Sale Amount     : num [1:10000] 325000 430000 805000 179900 890000 ...\n",
      " $ Sales Ratio     : num [1:10000] 0.463 0.588 0.41 0.725 0.696 ...\n",
      " $ Property Type   : chr [1:10000] \"Commercial\" \"Residential\" \"Residential\" \"Residential\" ...\n",
      " $ Residential Type: chr [1:10000] NA \"Single Family\" \"Single Family\" \"Condo\" ...\n",
      " $ Non Use Code    : chr [1:10000] NA NA NA NA ...\n",
      " $ Assessor Remarks: chr [1:10000] NA NA NA NA ...\n",
      " $ OPM remarks     : chr [1:10000] NA NA NA NA ...\n",
      " $ Location        : chr [1:10000] NA NA \"POINT (-72.846365959 41.781677018)\" NA ...\n"
     ]
    }
   ],
   "source": [
    "str(Real_estate_path_trimmed)"
   ]
  },
  {
   "cell_type": "code",
   "execution_count": 28,
   "id": "0e208887",
   "metadata": {},
   "outputs": [
    {
     "name": "stdout",
     "output_type": "stream",
     "text": [
      "[1] \"List Year\"      \"Date Recorded\"  \"Town\"           \"Assessed Value\"\n",
      "[5] \"Sale Amount\"    \"Sales Ratio\"    \"Property Type\" \n"
     ]
    }
   ],
   "source": [
    "# Define columns to remove\n",
    "columns_to_remove <- c('Serial Number', 'Address', 'Non Use Code', 'Assessor Remarks'\n",
    "                    , 'OPM remarks', 'Location', 'Residential Type')\n",
    "\n",
    "# Remove the specified columns\n",
    "Real_estate_path_trimmed <- Real_estate_path_trimmed[, !colnames(Real_estate_path_trimmed) %in% columns_to_remove]\n",
    "\n",
    "# Print the column names\n",
    "print(colnames(Real_estate_path_trimmed))"
   ]
  },
  {
   "cell_type": "code",
   "execution_count": 29,
   "id": "e1d3ce83",
   "metadata": {},
   "outputs": [
    {
     "data": {
      "text/html": [
       "<style>\n",
       ".dl-inline {width: auto; margin:0; padding: 0}\n",
       ".dl-inline>dt, .dl-inline>dd {float: none; width: auto; display: inline-block}\n",
       ".dl-inline>dt::after {content: \":\\0020\"; padding-right: .5ex}\n",
       ".dl-inline>dt:not(:first-of-type) {padding-left: .5ex}\n",
       "</style><dl class=dl-inline><dt>List Year</dt><dd>0</dd><dt>Date Recorded</dt><dd>0</dd><dt>Town</dt><dd>0</dd><dt>Assessed Value</dt><dd>0</dd><dt>Sale Amount</dt><dd>0</dd><dt>Sales Ratio</dt><dd>0</dd><dt>Property Type</dt><dd>119</dd></dl>\n"
      ],
      "text/latex": [
       "\\begin{description*}\n",
       "\\item[List Year] 0\n",
       "\\item[Date Recorded] 0\n",
       "\\item[Town] 0\n",
       "\\item[Assessed Value] 0\n",
       "\\item[Sale Amount] 0\n",
       "\\item[Sales Ratio] 0\n",
       "\\item[Property Type] 119\n",
       "\\end{description*}\n"
      ],
      "text/markdown": [
       "List Year\n",
       ":   0Date Recorded\n",
       ":   0Town\n",
       ":   0Assessed Value\n",
       ":   0Sale Amount\n",
       ":   0Sales Ratio\n",
       ":   0Property Type\n",
       ":   119\n",
       "\n"
      ],
      "text/plain": [
       "     List Year  Date Recorded           Town Assessed Value    Sale Amount \n",
       "             0              0              0              0              0 \n",
       "   Sales Ratio  Property Type \n",
       "             0            119 "
      ]
     },
     "metadata": {},
     "output_type": "display_data"
    }
   ],
   "source": [
    "colSums(is.na(Real_estate_path_trimmed))"
   ]
  },
  {
   "cell_type": "code",
   "execution_count": 30,
   "id": "ee168117",
   "metadata": {},
   "outputs": [
    {
     "data": {
      "text/html": [
       "<style>\n",
       ".dl-inline {width: auto; margin:0; padding: 0}\n",
       ".dl-inline>dt, .dl-inline>dd {float: none; width: auto; display: inline-block}\n",
       ".dl-inline>dt::after {content: \":\\0020\"; padding-right: .5ex}\n",
       ".dl-inline>dt:not(:first-of-type) {padding-left: .5ex}\n",
       "</style><dl class=dl-inline><dt>List Year</dt><dd>0</dd><dt>Date Recorded</dt><dd>0</dd><dt>Town</dt><dd>0</dd><dt>Assessed Value</dt><dd>0</dd><dt>Sale Amount</dt><dd>0</dd><dt>Sales Ratio</dt><dd>0</dd><dt>Property Type</dt><dd>0</dd></dl>\n"
      ],
      "text/latex": [
       "\\begin{description*}\n",
       "\\item[List Year] 0\n",
       "\\item[Date Recorded] 0\n",
       "\\item[Town] 0\n",
       "\\item[Assessed Value] 0\n",
       "\\item[Sale Amount] 0\n",
       "\\item[Sales Ratio] 0\n",
       "\\item[Property Type] 0\n",
       "\\end{description*}\n"
      ],
      "text/markdown": [
       "List Year\n",
       ":   0Date Recorded\n",
       ":   0Town\n",
       ":   0Assessed Value\n",
       ":   0Sale Amount\n",
       ":   0Sales Ratio\n",
       ":   0Property Type\n",
       ":   0\n",
       "\n"
      ],
      "text/plain": [
       "     List Year  Date Recorded           Town Assessed Value    Sale Amount \n",
       "             0              0              0              0              0 \n",
       "   Sales Ratio  Property Type \n",
       "             0              0 "
      ]
     },
     "metadata": {},
     "output_type": "display_data"
    }
   ],
   "source": [
    "# Remove rows with missing values\n",
    "Real_estate_cleaned <- na.omit(Real_estate_path_trimmed)\n",
    "colSums(is.na(Real_estate_cleaned))"
   ]
  },
  {
   "cell_type": "code",
   "execution_count": 31,
   "id": "d7eb363d",
   "metadata": {},
   "outputs": [
    {
     "data": {
      "text/html": [
       "9881"
      ],
      "text/latex": [
       "9881"
      ],
      "text/markdown": [
       "9881"
      ],
      "text/plain": [
       "[1] 9881"
      ]
     },
     "metadata": {},
     "output_type": "display_data"
    },
    {
     "data": {
      "text/html": [
       "7"
      ],
      "text/latex": [
       "7"
      ],
      "text/markdown": [
       "7"
      ],
      "text/plain": [
       "[1] 7"
      ]
     },
     "metadata": {},
     "output_type": "display_data"
    }
   ],
   "source": [
    "nrow(Real_estate_cleaned)\n",
    "ncol(Real_estate_cleaned)"
   ]
  },
  {
   "cell_type": "code",
   "execution_count": 32,
   "id": "c9cb5288",
   "metadata": {},
   "outputs": [
    {
     "name": "stderr",
     "output_type": "stream",
     "text": [
      "Warning message in preProcess.default(X_train, method = c(\"center\", \"scale\")):\n",
      "\"These variables have zero variances: TownOrange, TownPortland, TownRedding, TownRoxbury, TownSouth Windsor, TownSterling, TownThomaston, TownWarren, TownWestport, TownWillington, TownWolcott\"\n",
      "Warning message in lognet(xd, is.sparse, ix, jx, y, weights, offset, alpha, nobs, :\n",
      "\"one multinomial or binomial class has fewer than 8  observations; dangerous ground\"\n",
      "Warning message:\n",
      "\"from glmnet C++ code (error code -29); Convergence for 29th lambda value not reached after maxit=100000 iterations; solutions for larger lambdas returned\"\n"
     ]
    },
    {
     "name": "stdout",
     "output_type": "stream",
     "text": [
      "[1] \"Accuracy: 0.9038\"\n",
      "[1] \"F1 Score: 0.0729\"\n"
     ]
    }
   ],
   "source": [
    "# # Remove variables with zero variances\n",
    "# Real_estate_cleaned <- Real_estate_cleaned[, colSums(var(Real_estate_cleaned)) > 0]\n",
    "\n",
    "# Apply one-hot encoding to convert categorical town names to numeric by converting them to dummy values\n",
    "X <- model.matrix(~.-1, data = Real_estate_cleaned[, setdiff(names(Real_estate_cleaned), c(\"Property Type\", \"Date Recorded\"))])\n",
    "\n",
    "# Apply label encoding to convert categorical property types to numeric\n",
    "y <- as.factor(Real_estate_cleaned$`Property Type`)\n",
    "\n",
    "# Split the data into training and testing sets (70% train, 30% test)\n",
    "set.seed(42)\n",
    "trainIndex <- createDataPartition(y, p = 0.7, list = FALSE)\n",
    "X_train <- X[trainIndex, ]\n",
    "y_train <- y[trainIndex]\n",
    "X_test <- X[-trainIndex, ]\n",
    "y_test <- y[-trainIndex]\n",
    "\n",
    "# Standardize the features by removing the mean and scaling to unit variance\n",
    "preProcValues <- preProcess(X_train, method = c(\"center\", \"scale\"))\n",
    "X_train_scaled <- predict(preProcValues, X_train)\n",
    "X_test_scaled <- predict(preProcValues, X_test)\n",
    "\n",
    "# Initialize and train the logistic regression model\n",
    "logreg_model <- glmnet(X_train_scaled, y_train, family = \"multinomial\")\n",
    "\n",
    "# Predict on the test set\n",
    "y_pred <- predict(logreg_model, newx = X_test_scaled, s = 0.01, type = \"class\")\n",
    "\n",
    "# Calculate accuracy\n",
    "accuracy <- sum(y_pred == y_test) / length(y_test)\n",
    "print(paste(\"Accuracy:\", round(accuracy, digits = 4)))\n",
    "\n",
    "# Compute confusion matrix\n",
    "conf_matrix <- table(y_test, y_pred)\n",
    "\n",
    "# Calculate precision, recall, and F1 score\n",
    "precision <- conf_matrix[2, 2] / sum(conf_matrix[, 2])\n",
    "recall <- conf_matrix[2, 2] / sum(conf_matrix[2, ])\n",
    "f1_score <- 2 * precision * recall / (precision + recall)\n",
    "\n",
    "# Print F1 score\n",
    "print(paste(\"F1 Score:\", round(f1_score, digits = 4)))\n"
   ]
  },
  {
   "cell_type": "code",
   "execution_count": 33,
   "id": "52c0183a",
   "metadata": {},
   "outputs": [
    {
     "data": {
      "image/png": "[encoded data removed]",
      "text/plain": [
       "Plot with title \"Actual vs Predicted\""
      ]
     },
     "metadata": {
      "image/png": {
       "height": 420,
       "width": 420
      }
     },
     "output_type": "display_data"
    }
   ],
   "source": [
    "# Create a data frame with actual and predicted values\n",
    "plot_data <- data.frame(Actual = y_test, Predicted = y_pred)\n",
    "\n",
    "# Plot a scatter plot\n",
    "plot(plot_data$Actual, plot_data$Predicted, \n",
    "     xlab = \"Actual\", ylab = \"Predicted\",\n",
    "     main = \"Actual vs Predicted\")\n",
    "\n",
    "# Add a diagonal line for reference\n",
    "abline(0, 1, col = \"red\")\n",
    "\n",
    "# Add legend\n",
    "legend(\"topleft\", legend = \"Predicted = Actual\", col = \"red\", lty = 1)\n"
   ]
  },
  {
   "cell_type": "code",
   "execution_count": 34,
   "id": "bf95e9e1",
   "metadata": {},
   "outputs": [
    {
     "name": "stdout",
     "output_type": "stream",
     "text": [
      "[1] \"Accuracy: 0.9092\"\n",
      "[1] \"F1 Score: NA\"\n"
     ]
    }
   ],
   "source": [
    "# Initialize and train the K Nearest Neighbors classifier\n",
    "k <- 5  # Number of neighbors\n",
    "knn_model <- knn(train = X_train, test = X_test, cl = y_train, k = k)\n",
    "\n",
    "# Calculate accuracy\n",
    "accuracy <- sum(knn_model == y_test) / length(y_test)\n",
    "print(paste(\"Accuracy:\", round(accuracy, digits = 4)))\n",
    "\n",
    "# Calculate confusion matrix\n",
    "conf_matrix <- confusionMatrix(knn_model, y_test)\n",
    "\n",
    "# Calculate precision, recall, and F1 score\n",
    "precision <- conf_matrix$byClass[\"Pos Pred Value\"]\n",
    "recall <- conf_matrix$byClass[\"Sensitivity\"]\n",
    "f1_score <- 2 * precision * recall / (precision + recall)\n",
    "\n",
    "# Print F1 score\n",
    "print(paste(\"F1 Score:\", round(f1_score, digits = 4)))\n"
   ]
  },
  {
   "cell_type": "code",
   "execution_count": 35,
   "id": "93ca0023",
   "metadata": {},
   "outputs": [
    {
     "data": {
      "image/png": "[encoded data removed]",
      "text/plain": [
       "Plot with title \"Actual vs Predicted (KNN)\""
      ]
     },
     "metadata": {
      "image/png": {
       "height": 420,
       "width": 420
      }
     },
     "output_type": "display_data"
    }
   ],
   "source": [
    "# Create a data frame with actual and predicted values for KNN\n",
    "plot_data_knn <- data.frame(Actual = y_test, Predicted = knn_model)\n",
    "\n",
    "# Plot a scatter plot for KNN\n",
    "plot(plot_data_knn$Actual, plot_data_knn$Predicted, \n",
    "     xlab = \"Actual\", ylab = \"Predicted\",\n",
    "     main = \"Actual vs Predicted (KNN)\")\n",
    "\n",
    "# Add a diagonal line for reference\n",
    "abline(0, 1, col = \"red\")\n",
    "\n",
    "# Add legend\n",
    "legend(\"topleft\", legend = \"Predicted = Actual\", col = \"red\", lty = 1)\n"
   ]
  },
  {
   "cell_type": "code",
   "execution_count": null,
   "id": "5d1c8b44",
   "metadata": {},
   "outputs": [],
   "source": []
  }
 ],
 "metadata": {
  "kernelspec": {
   "display_name": "R",
   "language": "R",
   "name": "ir"
  },
  "language_info": {
   "codemirror_mode": "r",
   "file_extension": ".r",
   "mimetype": "text/x-r-source",
   "name": "R",
   "pygments_lexer": "r",
   "version": "4.3.2"
  }
 },
 "nbformat": 4,
 "nbformat_minor": 5
}
